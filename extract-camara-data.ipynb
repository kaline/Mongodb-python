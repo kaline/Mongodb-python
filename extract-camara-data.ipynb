{
 "cells": [
  {
   "cell_type": "code",
   "execution_count": 6,
   "metadata": {
    "execution": {
     "iopub.execute_input": "2022-10-28T16:37:40.146385Z",
     "iopub.status.busy": "2022-10-28T16:37:40.145890Z",
     "iopub.status.idle": "2022-10-28T16:37:40.151798Z",
     "shell.execute_reply": "2022-10-28T16:37:40.150507Z",
     "shell.execute_reply.started": "2022-10-28T16:37:40.146346Z"
    }
   },
   "outputs": [],
   "source": [
    "import requests\n",
    "import pandas as pd\n",
    "import copy\n",
    "import numpy as np"
   ]
  },
  {
   "cell_type": "code",
   "execution_count": 7,
   "metadata": {
    "execution": {
     "iopub.execute_input": "2022-10-28T16:37:40.157957Z",
     "iopub.status.busy": "2022-10-28T16:37:40.156916Z",
     "iopub.status.idle": "2022-10-28T16:37:51.123948Z",
     "shell.execute_reply": "2022-10-28T16:37:51.122617Z",
     "shell.execute_reply.started": "2022-10-28T16:37:40.157919Z"
    }
   },
   "outputs": [],
   "source": [
    "#!pip install PyPDF2\n",
    "\n",
    "# import module we'll need to import our custom module\n",
    "#from shutil import copyfile\n",
    "\n",
    "# copy our file into the working directory (make sure it has .py suffix)\n",
    "#copyfile(src = \"../input/camarafunctions/pdf_to_text.py\", dst = \"../working/pdf_to_text.py\")\n",
    "\n",
    "# import all our functions\n",
    "#from pdf_to_text import Pdf_to_text"
   ]
  },
  {
   "cell_type": "markdown",
   "metadata": {
    "id": "yNoWIFlO1hXj"
   },
   "source": [
    "# Processando os dados da Câmara"
   ]
  },
  {
   "cell_type": "markdown",
   "metadata": {
    "id": "cxYjuxsldHea"
   },
   "source": [
    "**Autores envolvidos**"
   ]
  },
  {
   "cell_type": "code",
   "execution_count": 8,
   "metadata": {
    "colab": {
     "background_save": true
    },
    "execution": {
     "iopub.execute_input": "2022-10-28T16:37:51.126703Z",
     "iopub.status.busy": "2022-10-28T16:37:51.126363Z",
     "iopub.status.idle": "2022-10-28T16:37:51.133851Z",
     "shell.execute_reply": "2022-10-28T16:37:51.132580Z",
     "shell.execute_reply.started": "2022-10-28T16:37:51.126668Z"
    },
    "id": "PMvFdv7CdHea"
   },
   "outputs": [],
   "source": [
    "def get_autores_informacoes(url):\n",
    "    nomes = []\n",
    "    nomes_string = \"\"\n",
    "    \n",
    "    resp = requests.get(url).json()\n",
    "    \n",
    "    if(\"dados\" in resp):\n",
    "        for dado in resp[\"dados\"]:\n",
    "            if(\"nome\" in dado and isinstance(dado[\"nome\"], str)):\n",
    "                nomes.append(dado[\"nome\"])\n",
    "        \n",
    "        nomes_string = \"; \".join(nomes)\n",
    "\n",
    "    return nomes_string"
   ]
  },
  {
   "cell_type": "markdown",
   "metadata": {},
   "source": [
    "**Ementa**"
   ]
  },
  {
   "cell_type": "code",
   "execution_count": 9,
   "metadata": {
    "execution": {
     "iopub.execute_input": "2022-10-28T16:37:51.135885Z",
     "iopub.status.busy": "2022-10-28T16:37:51.135507Z",
     "iopub.status.idle": "2022-10-28T16:37:51.145814Z",
     "shell.execute_reply": "2022-10-28T16:37:51.144478Z",
     "shell.execute_reply.started": "2022-10-28T16:37:51.135853Z"
    }
   },
   "outputs": [],
   "source": [
    "def get_ementa(data):\n",
    "    try:\n",
    "        return data[\"ementa\"]\n",
    "    except:\n",
    "        return \"\""
   ]
  },
  {
   "cell_type": "markdown",
   "metadata": {},
   "source": [
    "**Ano**"
   ]
  },
  {
   "cell_type": "code",
   "execution_count": 10,
   "metadata": {},
   "outputs": [],
   "source": [
    "def get_ano(data):\n",
    "    try:\n",
    "        return data[\"ano\"]\n",
    "    except:\n",
    "        return \"\""
   ]
  },
  {
   "cell_type": "markdown",
   "metadata": {},
   "source": [
    "**Data de apresentação**"
   ]
  },
  {
   "cell_type": "code",
   "execution_count": 11,
   "metadata": {},
   "outputs": [],
   "source": [
    "def get_dataApresentacao(data):\n",
    "    try:\n",
    "        return data[\"dataApresentacao\"]\n",
    "    except:\n",
    "        return \"\""
   ]
  },
  {
   "cell_type": "markdown",
   "metadata": {},
   "source": [
    "**keywords**"
   ]
  },
  {
   "cell_type": "code",
   "execution_count": 12,
   "metadata": {
    "execution": {
     "iopub.execute_input": "2022-10-28T16:37:51.149789Z",
     "iopub.status.busy": "2022-10-28T16:37:51.149370Z",
     "iopub.status.idle": "2022-10-28T16:37:51.157720Z",
     "shell.execute_reply": "2022-10-28T16:37:51.156697Z",
     "shell.execute_reply.started": "2022-10-28T16:37:51.149748Z"
    }
   },
   "outputs": [],
   "source": [
    "def get_keywords(data):\n",
    "    try:\n",
    "        return data[\"keywords\"].lower()\n",
    "    except:\n",
    "        return \"\""
   ]
  },
  {
   "cell_type": "markdown",
   "metadata": {},
   "source": [
    "**Autores**"
   ]
  },
  {
   "cell_type": "code",
   "execution_count": 13,
   "metadata": {
    "execution": {
     "iopub.execute_input": "2022-10-28T16:37:51.159701Z",
     "iopub.status.busy": "2022-10-28T16:37:51.159159Z",
     "iopub.status.idle": "2022-10-28T16:37:51.167429Z",
     "shell.execute_reply": "2022-10-28T16:37:51.166534Z",
     "shell.execute_reply.started": "2022-10-28T16:37:51.159671Z"
    }
   },
   "outputs": [],
   "source": [
    "def get_autores(data):\n",
    "    if(\"uriAutores\" in data):\n",
    "        return get_autores_informacoes(data[\"uriAutores\"])\n",
    "    else:\n",
    "        return \"\""
   ]
  },
  {
   "cell_type": "markdown",
   "metadata": {},
   "source": [
    "**Tema**"
   ]
  },
  {
   "cell_type": "code",
   "execution_count": 14,
   "metadata": {
    "execution": {
     "iopub.execute_input": "2022-10-28T16:37:51.169292Z",
     "iopub.status.busy": "2022-10-28T16:37:51.168713Z",
     "iopub.status.idle": "2022-10-28T16:37:51.178331Z",
     "shell.execute_reply": "2022-10-28T16:37:51.177515Z",
     "shell.execute_reply.started": "2022-10-28T16:37:51.169236Z"
    }
   },
   "outputs": [],
   "source": [
    "def get_tema(prop_id):\n",
    "    url = \"https://dadosabertos.camara.leg.br/api/v2/proposicoes/{prop_id}/temas\".format(prop_id=prop_id)\n",
    "    resp = requests.get(url).json()\n",
    "    \n",
    "    tema = \"\" \n",
    "    temas = []\n",
    "        \n",
    "    if(\"dados\" in resp):\n",
    "        dados = resp[\"dados\"]\n",
    "        for dado in dados:\n",
    "            try:\n",
    "                if(\"tema\" in dado):\n",
    "                    temas.append(dado[\"tema\"])\n",
    "            except:\n",
    "                continue\n",
    "        \n",
    "        if(tema != []):\n",
    "            tema = \"; \".join(temas)\n",
    "        else:\n",
    "            tema = \"\"\n",
    "            \n",
    "    \n",
    "    return tema"
   ]
  },
  {
   "cell_type": "markdown",
   "metadata": {},
   "source": [
    "**Texto da proposição**"
   ]
  },
  {
   "cell_type": "code",
   "execution_count": 15,
   "metadata": {
    "execution": {
     "iopub.execute_input": "2022-10-28T16:37:51.180254Z",
     "iopub.status.busy": "2022-10-28T16:37:51.179648Z",
     "iopub.status.idle": "2022-10-28T16:37:51.191185Z",
     "shell.execute_reply": "2022-10-28T16:37:51.190221Z",
     "shell.execute_reply.started": "2022-10-28T16:37:51.180197Z"
    }
   },
   "outputs": [],
   "source": [
    "def get_texto(data):\n",
    "    texto = \"\"\n",
    "    \n",
    "    try:\n",
    "        if(\"urlInteiroTeor\" in data):\n",
    "            url = data[\"urlInteiroTeor\"]\n",
    "\n",
    "            pdf_to_text = Pdf_to_text(url)\n",
    "            texto = pdf_to_text.extract()\n",
    "    except:\n",
    "        texto = \"\"\n",
    "        \n",
    "    return texto"
   ]
  },
  {
   "cell_type": "markdown",
   "metadata": {
    "id": "5L-JxxpXZ2Q5"
   },
   "source": [
    "**Proposição**"
   ]
  },
  {
   "cell_type": "code",
   "execution_count": 16,
   "metadata": {
    "colab": {
     "background_save": true
    },
    "execution": {
     "iopub.execute_input": "2022-10-28T16:37:51.193491Z",
     "iopub.status.busy": "2022-10-28T16:37:51.192826Z",
     "iopub.status.idle": "2022-10-28T16:37:51.201177Z",
     "shell.execute_reply": "2022-10-28T16:37:51.200392Z",
     "shell.execute_reply.started": "2022-10-28T16:37:51.193456Z"
    },
    "id": "J2W_rSF1XoXQ",
    "outputId": "09584c5d-e562-4ff8-cf3d-5a5556790a11"
   },
   "outputs": [],
   "source": [
    "def get_proposicao_infos(prop_id):   \n",
    "    ementa = None\n",
    "    keywords = None\n",
    "    autores = None\n",
    "    tema = None\n",
    "    ano = None\n",
    "    dataApresentacao = None\n",
    "    \n",
    "    print(prop_id, \"get_proposicao_infos\")\n",
    "    url = \"https://dadosabertos.camara.leg.br/api/v2/proposicoes/{prop_id}\".format(prop_id=prop_id)\n",
    "    print(\"Url\", url)\n",
    "\n",
    "    try:\n",
    "        resp = requests.get(url).json()\n",
    "    except requests.exceptions.RequestException as err:\n",
    "        print (\"OOps: Something Wrong: \",err)\n",
    "        return \"ERRO\",\"ERRO\",\"ERRO\",\"ERRO\", \"ERRO\", \"ERRO\"\n",
    "    \n",
    "    try:\n",
    "        ementa = get_ementa(resp[\"dados\"])\n",
    "        print(prop_id, \"ementa\")\n",
    "        keywords = get_keywords(resp[\"dados\"])\n",
    "        print(prop_id, \"keywords\")\n",
    "        autores = get_autores(resp[\"dados\"])\n",
    "        print(prop_id, \"autores\")\n",
    "        tema = get_tema(prop_id)\n",
    "        print(prop_id, \"tema\")\n",
    "        ano = get_ano(resp[\"dados\"])\n",
    "        print(prop_id, \"ano\")\n",
    "        dataApresentacao = get_dataApresentacao(resp[\"dados\"])\n",
    "        print(prop_id, \"dataApresentacao\")\n",
    "        \n",
    "    except:\n",
    "        print(\"ERRO\", prop_id, \":\", resp)\n",
    "\n",
    "    return ementa, keywords, autores, tema, ano, dataApresentacao"
   ]
  },
  {
   "cell_type": "markdown",
   "metadata": {},
   "source": [
    "**Todas de uma determinada consulta**"
   ]
  },
  {
   "cell_type": "code",
   "execution_count": 17,
   "metadata": {
    "execution": {
     "iopub.execute_input": "2022-10-28T16:37:51.203460Z",
     "iopub.status.busy": "2022-10-28T16:37:51.202764Z",
     "iopub.status.idle": "2022-10-28T16:37:51.212077Z",
     "shell.execute_reply": "2022-10-28T16:37:51.211208Z",
     "shell.execute_reply.started": "2022-10-28T16:37:51.203423Z"
    }
   },
   "outputs": [],
   "source": [
    "def get_proposicoes_ano(url):\n",
    "    resp = []\n",
    "    resp1 = requests.get(url).json()\n",
    "    have_next_page = True\n",
    "\n",
    "    while(have_next_page):\n",
    "        have_next_page = False\n",
    "        \n",
    "        if(\"dados\" in resp1 and \"links\" in resp1 and resp1[\"dados\"] != []):\n",
    "            resp = resp + resp1[\"dados\"]\n",
    "\n",
    "            for link in resp1[\"links\"]:\n",
    "                if(link[\"rel\"] == \"next\"):\n",
    "                    next_page = link[\"href\"]\n",
    "                    have_next_page = True\n",
    "                    break\n",
    "            \n",
    "            print(\"next_page\", next_page)\n",
    "            resp1 = requests.get(next_page).json()\n",
    "                \n",
    "    return resp"
   ]
  },
  {
   "cell_type": "markdown",
   "metadata": {},
   "source": [
    "**Id das proposições de uma faixa**"
   ]
  },
  {
   "cell_type": "code",
   "execution_count": 18,
   "metadata": {
    "colab": {
     "background_save": true
    },
    "execution": {
     "iopub.execute_input": "2022-10-28T16:37:51.215754Z",
     "iopub.status.busy": "2022-10-28T16:37:51.215354Z",
     "iopub.status.idle": "2022-10-28T16:37:51.226069Z",
     "shell.execute_reply": "2022-10-28T16:37:51.225302Z",
     "shell.execute_reply.started": "2022-10-28T16:37:51.215722Z"
    },
    "id": "qCkyie2laagA"
   },
   "outputs": [],
   "source": [
    "def get_dados(start, end):\n",
    "    ano = start\n",
    "    resp = []\n",
    "\n",
    "    while(ano <= end):\n",
    "        url = \"https://dadosabertos.camara.leg.br/api/v2/proposicoes?dataInicio={dataInicio}&dataFim={dataFim}&itens={itens}&ordem=ASC&ordenarPor=id\".format(dataInicio=str(ano)+\"-01-01\",dataFim=str(ano)+\"-12-31\",itens=10000)\n",
    "        resp_aux = get_proposicoes_ano(url)\n",
    "\n",
    "        resp = resp + resp_aux\n",
    "\n",
    "        ano += 1\n",
    "\n",
    "    return resp"
   ]
  },
  {
   "cell_type": "markdown",
   "metadata": {},
   "source": [
    "**Dados de todas as proposições na faixa**"
   ]
  },
  {
   "cell_type": "code",
   "execution_count": 19,
   "metadata": {},
   "outputs": [],
   "source": [
    "def get_resp(ano):\n",
    "    resp_proposicoes = get_dados(ano, ano)\n",
    "    print(f\"Nro. de proposições no ano de {ano}: {len(resp_proposicoes)}\")\n",
    "    \n",
    "    return resp_proposicoes\n",
    "    "
   ]
  },
  {
   "cell_type": "markdown",
   "metadata": {
    "id": "mH4I8su0nDQP"
   },
   "source": [
    "## Tratando os dados"
   ]
  },
  {
   "cell_type": "code",
   "execution_count": 20,
   "metadata": {},
   "outputs": [],
   "source": [
    "def dados_proposicoes(idx, resp, total_threads):\n",
    "    ementa_list = []\n",
    "    keywords_list = []\n",
    "    autores_list = []\n",
    "    temas_list = []\n",
    "    id_list = []\n",
    "    ano_list = []\n",
    "    dataApresentacao_list = []\n",
    "    lista_erro = []\n",
    "    lista_erro2 = []\n",
    "        \n",
    "    for dado in resp:\n",
    "        try:\n",
    "            ementa, keywords, autores, tema, ano, dataApresentacao = get_proposicao_infos(dado[\"id\"])\n",
    "            if(ementa == \"ERRO\"):\n",
    "                lista_erro2.append(dado[\"id\"])\n",
    "                continue\n",
    "            if(ementa is None):\n",
    "                continue\n",
    "\n",
    "            ementa_list.append(ementa)\n",
    "            keywords_list.append(keywords)\n",
    "            autores_list.append(autores)\n",
    "            temas_list.append(tema)\n",
    "            id_list.append(dado[\"id\"])\n",
    "            ano_list.append(ano)\n",
    "            dataApresentacao_list.append(dataApresentacao)\n",
    "\n",
    "        except:\n",
    "            print(\"Erro em obter:\", dado[\"id\"])\n",
    "            lista_erro.append(dado[\"id\"])\n",
    "        \n",
    "    result_dados_proposicoes = {\n",
    "        \"ementa_list\": ementa_list,\n",
    "        \"keywords_list\": keywords_list,\n",
    "        \"autores_list\": autores_list,\n",
    "        \"temas_list\": temas_list,\n",
    "        \"id_list\": id_list,\n",
    "        \"ano_list\": ano_list,\n",
    "        \"dataApresentacao_list\": dataApresentacao_list,\n",
    "        \"lista_erro\": lista_erro,\n",
    "        \"lista_erro2\": lista_erro2\n",
    "    }\n",
    "    \n",
    "    return result_dados_proposicoes"
   ]
  },
  {
   "cell_type": "markdown",
   "metadata": {},
   "source": [
    "**Pegando as proposições com erro**"
   ]
  },
  {
   "cell_type": "code",
   "execution_count": 21,
   "metadata": {},
   "outputs": [],
   "source": [
    "def dados_proposicoes_erro(parameters, idx):\n",
    "    nova_lista_erro = []\n",
    "    ementa_list, keywords_list, autores_list, temas_list, id_list, ano_list, dataApresentacao_list, lista_erro, lista_erro2 = parameters[\"ementa_list\"], parameters[\"keywords_list\"], parameters[\"autores_list\"], parameters[\"temas_list\"], parameters[\"id_list\"], parameters[\"ano_list\"], parameters[\"dataApresentacao_list\"], parameters[\"lista_erro\"], parameters[\"lista_erro2\"]\n",
    "    \n",
    "    result_dados_proposicoes = copy.deepcopy(parameters)\n",
    "    \n",
    "    while(lista_erro != []):\n",
    "        print(\"---> \", len(lista_erro))\n",
    "        for id_proposicao in lista_erro:\n",
    "            try:\n",
    "                ementa, keywords, autores, tema, ano, dataApresentacao = get_proposicao_infos(id_proposicao)\n",
    "                if(ementa == \"ERRO\"):\n",
    "                    lista_erro2.append(id_proposicao)\n",
    "                    continue\n",
    "                if(ementa is None):\n",
    "                    continue\n",
    "\n",
    "                ementa_list.append(ementa)\n",
    "                keywords_list.append(keywords)\n",
    "                autores_list.append(autores)\n",
    "                temas_list.append(tema)\n",
    "                id_list.append(id_proposicao)\n",
    "                ano_list.append(ano)\n",
    "                dataApresentacao_list.append(dataApresentacao)\n",
    "\n",
    "            except:\n",
    "                print(\"Erro em obter:\", id_proposicao)\n",
    "                nova_lista_erro.append(id_proposicao)\n",
    "                print(dado)\n",
    "\n",
    "            print(\"==============\")\n",
    "\n",
    "            lista_erro = copy.deepcopy(nova_lista_erro)\n",
    "            nova_lista_erro = []\n",
    "       \n",
    "    result_dados_proposicoes = {\n",
    "        \"ementa_list\": ementa_list,\n",
    "        \"keywords_list\": keywords_list,\n",
    "        \"autores_list\": autores_list,\n",
    "        \"temas_list\": temas_list,\n",
    "        \"id_list\": id_list,\n",
    "        \"ano_list\": ano_list,\n",
    "        \"dataApresentacao_list\": dataApresentacao_list,\n",
    "        \"lista_erro\": lista_erro,\n",
    "        \"lista_erro2\": lista_erro2\n",
    "    }\n",
    "    \n",
    "    return result_dados_proposicoes"
   ]
  },
  {
   "cell_type": "markdown",
   "metadata": {},
   "source": [
    "**Threads**"
   ]
  },
  {
   "cell_type": "code",
   "execution_count": 22,
   "metadata": {},
   "outputs": [],
   "source": [
    "from time import sleep, perf_counter\n",
    "from threading import Thread\n",
    "\n",
    "def minera_dados(resp_proposicoes, total_threads):\n",
    "    def task(idx, resp):\n",
    "        print(f'Starting the task {idx}...')\n",
    "        global result_dados_proposicoes\n",
    "\n",
    "        #Dados das proposições\n",
    "        result_dados_proposicoes[idx] = dados_proposicoes(idx, resp, total_threads)\n",
    "        #Proposições que o servidor derrubou\n",
    "        result_dados_proposicoes[idx] = dados_proposicoes_erro(result_dados_proposicoes[idx], idx)\n",
    "\n",
    "        #Proposições com outros erros\n",
    "        result_dados_proposicoes[idx][\"lista_erro\"] = result_dados_proposicoes[idx][\"lista_erro2\"]\n",
    "        result_dados_proposicoes[idx] = dados_proposicoes_erro(result_dados_proposicoes[idx], idx)\n",
    "\n",
    "        print(f'The task {idx} completed')\n",
    "    \n",
    "    #Inicio da coleta\n",
    "    start_time = perf_counter()\n",
    "\n",
    "    #Global variable\n",
    "\n",
    "    global result_dados_proposicoes \n",
    "    result_dados_proposicoes = [0]*total_threads\n",
    "\n",
    "    resp_list = np.array_split(resp_proposicoes, total_threads)\n",
    "\n",
    "    # create and start threads\n",
    "    threads = []\n",
    "    for idx, resp in enumerate(resp_list):\n",
    "        t = Thread(target=task, args=(idx, resp,))\n",
    "        threads.append(t)\n",
    "        t.start()\n",
    "\n",
    "    # wait for the threads to complete\n",
    "    for t in threads:\n",
    "        t.join()\n",
    "\n",
    "    end_time = perf_counter()\n",
    "\n",
    "    print(f'It took {end_time- start_time: 0.2f} second(s) to complete.')\n",
    "\n",
    "    return result_dados_proposicoes"
   ]
  },
  {
   "cell_type": "markdown",
   "metadata": {},
   "source": [
    "**Criando df das proposições**"
   ]
  },
  {
   "cell_type": "code",
   "execution_count": 23,
   "metadata": {},
   "outputs": [],
   "source": [
    "def gera_df(result_dado, total_threads):\n",
    "    \n",
    "    dados = {}\n",
    "\n",
    "    dados[\"id\"] = []\n",
    "    dados[\"ementa\"] = []\n",
    "    dados[\"keywords\"] = []\n",
    "    dados[\"autores\"] = []\n",
    "    dados[\"temas\"] = []\n",
    "    dados[\"ano\"] = []\n",
    "    dados[\"dataApresentacao\"] = []\n",
    "\n",
    "    for i in range(0, total_threads):\n",
    "        dados[\"id\"] += result_dado[i][\"id_list\"]\n",
    "        dados[\"ementa\"] += result_dado[i][\"ementa_list\"]\n",
    "        dados[\"keywords\"] += result_dado[i][\"keywords_list\"]\n",
    "        dados[\"autores\"] += result_dado[i][\"autores_list\"]\n",
    "        dados[\"temas\"] += result_dado[i][\"temas_list\"]\n",
    "        dados[\"ano\"] += result_dado[i][\"ano_list\"]\n",
    "        dados[\"dataApresentacao\"] += result_dado[i][\"dataApresentacao_list\"]\n",
    "\n",
    "    df = pd.DataFrame(dados)\n",
    "    \n",
    "    return df"
   ]
  },
  {
   "cell_type": "markdown",
   "metadata": {},
   "source": [
    "**Realiza a mineração**"
   ]
  },
  {
   "cell_type": "code",
   "execution_count": 24,
   "metadata": {},
   "outputs": [],
   "source": [
    "def run(ano, total_threads):\n",
    "    resp_proposicoes = get_resp(ano)\n",
    "    result_dado = minera_dados(resp_proposicoes, total_threads)\n",
    "    \n",
    "    df = gera_df(result_dado, total_threads)\n",
    "    df.to_csv(f\"./data/camara_data_{ano}.csv\",encoding='utf8', index=False)    "
   ]
  },
  {
   "cell_type": "code",
   "execution_count": 25,
   "metadata": {
    "scrolled": true
   },
   "outputs": [
    {
     "name": "stdout",
     "output_type": "stream",
     "text": [
      "\n",
      "\n",
      "Iteração do ano: 2019\n",
      "next_page https://dadosabertos.camara.leg.br/api/v2/proposicoes?dataInicio=2019-01-01&dataFim=2019-12-31&ordem=ASC&ordenarPor=id&pagina=2&itens=100\n",
      "next_page https://dadosabertos.camara.leg.br/api/v2/proposicoes?dataInicio=2019-01-01&dataFim=2019-12-31&ordem=ASC&ordenarPor=id&pagina=3&itens=100\n",
      "next_page https://dadosabertos.camara.leg.br/api/v2/proposicoes?dataInicio=2019-01-01&dataFim=2019-12-31&ordem=ASC&ordenarPor=id&pagina=4&itens=100\n",
      "next_page https://dadosabertos.camara.leg.br/api/v2/proposicoes?dataInicio=2019-01-01&dataFim=2019-12-31&ordem=ASC&ordenarPor=id&pagina=5&itens=100\n",
      "next_page https://dadosabertos.camara.leg.br/api/v2/proposicoes?dataInicio=2019-01-01&dataFim=2019-12-31&ordem=ASC&ordenarPor=id&pagina=6&itens=100\n",
      "next_page https://dadosabertos.camara.leg.br/api/v2/proposicoes?dataInicio=2019-01-01&dataFim=2019-12-31&ordem=ASC&ordenarPor=id&pagina=7&itens=100\n",
      "next_page https://dadosabertos.camara.leg.br/api/v2/proposicoes?dataInicio=2019-01-01&dataFim=2019-12-31&ordem=ASC&ordenarPor=id&pagina=8&itens=100\n",
      "next_page https://dadosabertos.camara.leg.br/api/v2/proposicoes?dataInicio=2019-01-01&dataFim=2019-12-31&ordem=ASC&ordenarPor=id&pagina=9&itens=100\n",
      "next_page https://dadosabertos.camara.leg.br/api/v2/proposicoes?dataInicio=2019-01-01&dataFim=2019-12-31&ordem=ASC&ordenarPor=id&pagina=10&itens=100\n",
      "next_page https://dadosabertos.camara.leg.br/api/v2/proposicoes?dataInicio=2019-01-01&dataFim=2019-12-31&ordem=ASC&ordenarPor=id&pagina=11&itens=100\n",
      "next_page https://dadosabertos.camara.leg.br/api/v2/proposicoes?dataInicio=2019-01-01&dataFim=2019-12-31&ordem=ASC&ordenarPor=id&pagina=12&itens=100\n",
      "next_page https://dadosabertos.camara.leg.br/api/v2/proposicoes?dataInicio=2019-01-01&dataFim=2019-12-31&ordem=ASC&ordenarPor=id&pagina=13&itens=100\n",
      "next_page https://dadosabertos.camara.leg.br/api/v2/proposicoes?dataInicio=2019-01-01&dataFim=2019-12-31&ordem=ASC&ordenarPor=id&pagina=14&itens=100\n",
      "next_page https://dadosabertos.camara.leg.br/api/v2/proposicoes?dataInicio=2019-01-01&dataFim=2019-12-31&ordem=ASC&ordenarPor=id&pagina=15&itens=100\n",
      "next_page https://dadosabertos.camara.leg.br/api/v2/proposicoes?dataInicio=2019-01-01&dataFim=2019-12-31&ordem=ASC&ordenarPor=id&pagina=16&itens=100\n",
      "next_page https://dadosabertos.camara.leg.br/api/v2/proposicoes?dataInicio=2019-01-01&dataFim=2019-12-31&ordem=ASC&ordenarPor=id&pagina=17&itens=100\n",
      "next_page https://dadosabertos.camara.leg.br/api/v2/proposicoes?dataInicio=2019-01-01&dataFim=2019-12-31&ordem=ASC&ordenarPor=id&pagina=18&itens=100\n",
      "next_page https://dadosabertos.camara.leg.br/api/v2/proposicoes?dataInicio=2019-01-01&dataFim=2019-12-31&ordem=ASC&ordenarPor=id&pagina=19&itens=100\n",
      "next_page https://dadosabertos.camara.leg.br/api/v2/proposicoes?dataInicio=2019-01-01&dataFim=2019-12-31&ordem=ASC&ordenarPor=id&pagina=20&itens=100\n",
      "next_page https://dadosabertos.camara.leg.br/api/v2/proposicoes?dataInicio=2019-01-01&dataFim=2019-12-31&ordem=ASC&ordenarPor=id&pagina=21&itens=100\n",
      "next_page https://dadosabertos.camara.leg.br/api/v2/proposicoes?dataInicio=2019-01-01&dataFim=2019-12-31&ordem=ASC&ordenarPor=id&pagina=22&itens=100\n",
      "next_page https://dadosabertos.camara.leg.br/api/v2/proposicoes?dataInicio=2019-01-01&dataFim=2019-12-31&ordem=ASC&ordenarPor=id&pagina=23&itens=100\n",
      "next_page https://dadosabertos.camara.leg.br/api/v2/proposicoes?dataInicio=2019-01-01&dataFim=2019-12-31&ordem=ASC&ordenarPor=id&pagina=24&itens=100\n",
      "next_page https://dadosabertos.camara.leg.br/api/v2/proposicoes?dataInicio=2019-01-01&dataFim=2019-12-31&ordem=ASC&ordenarPor=id&pagina=25&itens=100\n",
      "next_page https://dadosabertos.camara.leg.br/api/v2/proposicoes?dataInicio=2019-01-01&dataFim=2019-12-31&ordem=ASC&ordenarPor=id&pagina=26&itens=100\n",
      "next_page https://dadosabertos.camara.leg.br/api/v2/proposicoes?dataInicio=2019-01-01&dataFim=2019-12-31&ordem=ASC&ordenarPor=id&pagina=27&itens=100\n",
      "next_page https://dadosabertos.camara.leg.br/api/v2/proposicoes?dataInicio=2019-01-01&dataFim=2019-12-31&ordem=ASC&ordenarPor=id&pagina=28&itens=100\n",
      "next_page https://dadosabertos.camara.leg.br/api/v2/proposicoes?dataInicio=2019-01-01&dataFim=2019-12-31&ordem=ASC&ordenarPor=id&pagina=29&itens=100\n",
      "next_page https://dadosabertos.camara.leg.br/api/v2/proposicoes?dataInicio=2019-01-01&dataFim=2019-12-31&ordem=ASC&ordenarPor=id&pagina=30&itens=100\n",
      "next_page https://dadosabertos.camara.leg.br/api/v2/proposicoes?dataInicio=2019-01-01&dataFim=2019-12-31&ordem=ASC&ordenarPor=id&pagina=31&itens=100\n",
      "next_page https://dadosabertos.camara.leg.br/api/v2/proposicoes?dataInicio=2019-01-01&dataFim=2019-12-31&ordem=ASC&ordenarPor=id&pagina=32&itens=100\n",
      "next_page https://dadosabertos.camara.leg.br/api/v2/proposicoes?dataInicio=2019-01-01&dataFim=2019-12-31&ordem=ASC&ordenarPor=id&pagina=33&itens=100\n",
      "next_page https://dadosabertos.camara.leg.br/api/v2/proposicoes?dataInicio=2019-01-01&dataFim=2019-12-31&ordem=ASC&ordenarPor=id&pagina=34&itens=100\n",
      "next_page https://dadosabertos.camara.leg.br/api/v2/proposicoes?dataInicio=2019-01-01&dataFim=2019-12-31&ordem=ASC&ordenarPor=id&pagina=35&itens=100\n",
      "next_page https://dadosabertos.camara.leg.br/api/v2/proposicoes?dataInicio=2019-01-01&dataFim=2019-12-31&ordem=ASC&ordenarPor=id&pagina=36&itens=100\n",
      "next_page https://dadosabertos.camara.leg.br/api/v2/proposicoes?dataInicio=2019-01-01&dataFim=2019-12-31&ordem=ASC&ordenarPor=id&pagina=37&itens=100\n",
      "next_page https://dadosabertos.camara.leg.br/api/v2/proposicoes?dataInicio=2019-01-01&dataFim=2019-12-31&ordem=ASC&ordenarPor=id&pagina=38&itens=100\n",
      "next_page https://dadosabertos.camara.leg.br/api/v2/proposicoes?dataInicio=2019-01-01&dataFim=2019-12-31&ordem=ASC&ordenarPor=id&pagina=39&itens=100\n",
      "next_page https://dadosabertos.camara.leg.br/api/v2/proposicoes?dataInicio=2019-01-01&dataFim=2019-12-31&ordem=ASC&ordenarPor=id&pagina=40&itens=100\n",
      "next_page https://dadosabertos.camara.leg.br/api/v2/proposicoes?dataInicio=2019-01-01&dataFim=2019-12-31&ordem=ASC&ordenarPor=id&pagina=41&itens=100\n",
      "next_page https://dadosabertos.camara.leg.br/api/v2/proposicoes?dataInicio=2019-01-01&dataFim=2019-12-31&ordem=ASC&ordenarPor=id&pagina=42&itens=100\n",
      "next_page https://dadosabertos.camara.leg.br/api/v2/proposicoes?dataInicio=2019-01-01&dataFim=2019-12-31&ordem=ASC&ordenarPor=id&pagina=43&itens=100\n",
      "next_page https://dadosabertos.camara.leg.br/api/v2/proposicoes?dataInicio=2019-01-01&dataFim=2019-12-31&ordem=ASC&ordenarPor=id&pagina=44&itens=100\n",
      "next_page https://dadosabertos.camara.leg.br/api/v2/proposicoes?dataInicio=2019-01-01&dataFim=2019-12-31&ordem=ASC&ordenarPor=id&pagina=45&itens=100\n",
      "next_page https://dadosabertos.camara.leg.br/api/v2/proposicoes?dataInicio=2019-01-01&dataFim=2019-12-31&ordem=ASC&ordenarPor=id&pagina=46&itens=100\n",
      "next_page https://dadosabertos.camara.leg.br/api/v2/proposicoes?dataInicio=2019-01-01&dataFim=2019-12-31&ordem=ASC&ordenarPor=id&pagina=47&itens=100\n",
      "next_page https://dadosabertos.camara.leg.br/api/v2/proposicoes?dataInicio=2019-01-01&dataFim=2019-12-31&ordem=ASC&ordenarPor=id&pagina=48&itens=100\n",
      "next_page https://dadosabertos.camara.leg.br/api/v2/proposicoes?dataInicio=2019-01-01&dataFim=2019-12-31&ordem=ASC&ordenarPor=id&pagina=49&itens=100\n",
      "next_page https://dadosabertos.camara.leg.br/api/v2/proposicoes?dataInicio=2019-01-01&dataFim=2019-12-31&ordem=ASC&ordenarPor=id&pagina=50&itens=100\n",
      "next_page https://dadosabertos.camara.leg.br/api/v2/proposicoes?dataInicio=2019-01-01&dataFim=2019-12-31&ordem=ASC&ordenarPor=id&pagina=51&itens=100\n",
      "next_page https://dadosabertos.camara.leg.br/api/v2/proposicoes?dataInicio=2019-01-01&dataFim=2019-12-31&ordem=ASC&ordenarPor=id&pagina=52&itens=100\n",
      "next_page https://dadosabertos.camara.leg.br/api/v2/proposicoes?dataInicio=2019-01-01&dataFim=2019-12-31&ordem=ASC&ordenarPor=id&pagina=53&itens=100\n",
      "next_page https://dadosabertos.camara.leg.br/api/v2/proposicoes?dataInicio=2019-01-01&dataFim=2019-12-31&ordem=ASC&ordenarPor=id&pagina=54&itens=100\n",
      "next_page https://dadosabertos.camara.leg.br/api/v2/proposicoes?dataInicio=2019-01-01&dataFim=2019-12-31&ordem=ASC&ordenarPor=id&pagina=55&itens=100\n",
      "next_page https://dadosabertos.camara.leg.br/api/v2/proposicoes?dataInicio=2019-01-01&dataFim=2019-12-31&ordem=ASC&ordenarPor=id&pagina=56&itens=100\n",
      "next_page https://dadosabertos.camara.leg.br/api/v2/proposicoes?dataInicio=2019-01-01&dataFim=2019-12-31&ordem=ASC&ordenarPor=id&pagina=57&itens=100\n",
      "next_page https://dadosabertos.camara.leg.br/api/v2/proposicoes?dataInicio=2019-01-01&dataFim=2019-12-31&ordem=ASC&ordenarPor=id&pagina=58&itens=100\n",
      "next_page https://dadosabertos.camara.leg.br/api/v2/proposicoes?dataInicio=2019-01-01&dataFim=2019-12-31&ordem=ASC&ordenarPor=id&pagina=59&itens=100\n",
      "next_page https://dadosabertos.camara.leg.br/api/v2/proposicoes?dataInicio=2019-01-01&dataFim=2019-12-31&ordem=ASC&ordenarPor=id&pagina=60&itens=100\n",
      "next_page https://dadosabertos.camara.leg.br/api/v2/proposicoes?dataInicio=2019-01-01&dataFim=2019-12-31&ordem=ASC&ordenarPor=id&pagina=61&itens=100\n",
      "next_page https://dadosabertos.camara.leg.br/api/v2/proposicoes?dataInicio=2019-01-01&dataFim=2019-12-31&ordem=ASC&ordenarPor=id&pagina=62&itens=100\n",
      "next_page https://dadosabertos.camara.leg.br/api/v2/proposicoes?dataInicio=2019-01-01&dataFim=2019-12-31&ordem=ASC&ordenarPor=id&pagina=63&itens=100\n",
      "next_page https://dadosabertos.camara.leg.br/api/v2/proposicoes?dataInicio=2019-01-01&dataFim=2019-12-31&ordem=ASC&ordenarPor=id&pagina=64&itens=100\n",
      "next_page https://dadosabertos.camara.leg.br/api/v2/proposicoes?dataInicio=2019-01-01&dataFim=2019-12-31&ordem=ASC&ordenarPor=id&pagina=65&itens=100\n",
      "next_page https://dadosabertos.camara.leg.br/api/v2/proposicoes?dataInicio=2019-01-01&dataFim=2019-12-31&ordem=ASC&ordenarPor=id&pagina=66&itens=100\n",
      "next_page https://dadosabertos.camara.leg.br/api/v2/proposicoes?dataInicio=2019-01-01&dataFim=2019-12-31&ordem=ASC&ordenarPor=id&pagina=67&itens=100\n",
      "next_page https://dadosabertos.camara.leg.br/api/v2/proposicoes?dataInicio=2019-01-01&dataFim=2019-12-31&ordem=ASC&ordenarPor=id&pagina=68&itens=100\n",
      "next_page https://dadosabertos.camara.leg.br/api/v2/proposicoes?dataInicio=2019-01-01&dataFim=2019-12-31&ordem=ASC&ordenarPor=id&pagina=69&itens=100\n",
      "next_page https://dadosabertos.camara.leg.br/api/v2/proposicoes?dataInicio=2019-01-01&dataFim=2019-12-31&ordem=ASC&ordenarPor=id&pagina=70&itens=100\n",
      "next_page https://dadosabertos.camara.leg.br/api/v2/proposicoes?dataInicio=2019-01-01&dataFim=2019-12-31&ordem=ASC&ordenarPor=id&pagina=71&itens=100\n",
      "next_page https://dadosabertos.camara.leg.br/api/v2/proposicoes?dataInicio=2019-01-01&dataFim=2019-12-31&ordem=ASC&ordenarPor=id&pagina=72&itens=100\n",
      "next_page https://dadosabertos.camara.leg.br/api/v2/proposicoes?dataInicio=2019-01-01&dataFim=2019-12-31&ordem=ASC&ordenarPor=id&pagina=73&itens=100\n",
      "next_page https://dadosabertos.camara.leg.br/api/v2/proposicoes?dataInicio=2019-01-01&dataFim=2019-12-31&ordem=ASC&ordenarPor=id&pagina=74&itens=100\n",
      "next_page https://dadosabertos.camara.leg.br/api/v2/proposicoes?dataInicio=2019-01-01&dataFim=2019-12-31&ordem=ASC&ordenarPor=id&pagina=75&itens=100\n",
      "next_page https://dadosabertos.camara.leg.br/api/v2/proposicoes?dataInicio=2019-01-01&dataFim=2019-12-31&ordem=ASC&ordenarPor=id&pagina=76&itens=100\n",
      "next_page https://dadosabertos.camara.leg.br/api/v2/proposicoes?dataInicio=2019-01-01&dataFim=2019-12-31&ordem=ASC&ordenarPor=id&pagina=77&itens=100\n",
      "next_page https://dadosabertos.camara.leg.br/api/v2/proposicoes?dataInicio=2019-01-01&dataFim=2019-12-31&ordem=ASC&ordenarPor=id&pagina=78&itens=100\n",
      "next_page https://dadosabertos.camara.leg.br/api/v2/proposicoes?dataInicio=2019-01-01&dataFim=2019-12-31&ordem=ASC&ordenarPor=id&pagina=79&itens=100\n",
      "next_page https://dadosabertos.camara.leg.br/api/v2/proposicoes?dataInicio=2019-01-01&dataFim=2019-12-31&ordem=ASC&ordenarPor=id&pagina=80&itens=100\n",
      "next_page https://dadosabertos.camara.leg.br/api/v2/proposicoes?dataInicio=2019-01-01&dataFim=2019-12-31&ordem=ASC&ordenarPor=id&pagina=81&itens=100\n",
      "next_page https://dadosabertos.camara.leg.br/api/v2/proposicoes?dataInicio=2019-01-01&dataFim=2019-12-31&ordem=ASC&ordenarPor=id&pagina=82&itens=100\n",
      "next_page https://dadosabertos.camara.leg.br/api/v2/proposicoes?dataInicio=2019-01-01&dataFim=2019-12-31&ordem=ASC&ordenarPor=id&pagina=83&itens=100\n",
      "next_page https://dadosabertos.camara.leg.br/api/v2/proposicoes?dataInicio=2019-01-01&dataFim=2019-12-31&ordem=ASC&ordenarPor=id&pagina=84&itens=100\n",
      "next_page https://dadosabertos.camara.leg.br/api/v2/proposicoes?dataInicio=2019-01-01&dataFim=2019-12-31&ordem=ASC&ordenarPor=id&pagina=85&itens=100\n",
      "next_page https://dadosabertos.camara.leg.br/api/v2/proposicoes?dataInicio=2019-01-01&dataFim=2019-12-31&ordem=ASC&ordenarPor=id&pagina=86&itens=100\n",
      "next_page https://dadosabertos.camara.leg.br/api/v2/proposicoes?dataInicio=2019-01-01&dataFim=2019-12-31&ordem=ASC&ordenarPor=id&pagina=87&itens=100\n",
      "next_page https://dadosabertos.camara.leg.br/api/v2/proposicoes?dataInicio=2019-01-01&dataFim=2019-12-31&ordem=ASC&ordenarPor=id&pagina=88&itens=100\n",
      "next_page https://dadosabertos.camara.leg.br/api/v2/proposicoes?dataInicio=2019-01-01&dataFim=2019-12-31&ordem=ASC&ordenarPor=id&pagina=89&itens=100\n",
      "next_page https://dadosabertos.camara.leg.br/api/v2/proposicoes?dataInicio=2019-01-01&dataFim=2019-12-31&ordem=ASC&ordenarPor=id&pagina=90&itens=100\n",
      "next_page https://dadosabertos.camara.leg.br/api/v2/proposicoes?dataInicio=2019-01-01&dataFim=2019-12-31&ordem=ASC&ordenarPor=id&pagina=91&itens=100\n",
      "next_page https://dadosabertos.camara.leg.br/api/v2/proposicoes?dataInicio=2019-01-01&dataFim=2019-12-31&ordem=ASC&ordenarPor=id&pagina=92&itens=100\n",
      "next_page https://dadosabertos.camara.leg.br/api/v2/proposicoes?dataInicio=2019-01-01&dataFim=2019-12-31&ordem=ASC&ordenarPor=id&pagina=93&itens=100\n",
      "next_page https://dadosabertos.camara.leg.br/api/v2/proposicoes?dataInicio=2019-01-01&dataFim=2019-12-31&ordem=ASC&ordenarPor=id&pagina=94&itens=100\n",
      "next_page https://dadosabertos.camara.leg.br/api/v2/proposicoes?dataInicio=2019-01-01&dataFim=2019-12-31&ordem=ASC&ordenarPor=id&pagina=95&itens=100\n",
      "next_page https://dadosabertos.camara.leg.br/api/v2/proposicoes?dataInicio=2019-01-01&dataFim=2019-12-31&ordem=ASC&ordenarPor=id&pagina=96&itens=100\n",
      "next_page https://dadosabertos.camara.leg.br/api/v2/proposicoes?dataInicio=2019-01-01&dataFim=2019-12-31&ordem=ASC&ordenarPor=id&pagina=97&itens=100\n",
      "next_page https://dadosabertos.camara.leg.br/api/v2/proposicoes?dataInicio=2019-01-01&dataFim=2019-12-31&ordem=ASC&ordenarPor=id&pagina=98&itens=100\n",
      "next_page https://dadosabertos.camara.leg.br/api/v2/proposicoes?dataInicio=2019-01-01&dataFim=2019-12-31&ordem=ASC&ordenarPor=id&pagina=99&itens=100\n",
      "next_page https://dadosabertos.camara.leg.br/api/v2/proposicoes?dataInicio=2019-01-01&dataFim=2019-12-31&ordem=ASC&ordenarPor=id&pagina=100&itens=100\n",
      "next_page https://dadosabertos.camara.leg.br/api/v2/proposicoes?dataInicio=2019-01-01&dataFim=2019-12-31&ordem=ASC&ordenarPor=id&pagina=101&itens=100\n",
      "next_page https://dadosabertos.camara.leg.br/api/v2/proposicoes?dataInicio=2019-01-01&dataFim=2019-12-31&ordem=ASC&ordenarPor=id&pagina=102&itens=100\n",
      "next_page https://dadosabertos.camara.leg.br/api/v2/proposicoes?dataInicio=2019-01-01&dataFim=2019-12-31&ordem=ASC&ordenarPor=id&pagina=103&itens=100\n",
      "next_page https://dadosabertos.camara.leg.br/api/v2/proposicoes?dataInicio=2019-01-01&dataFim=2019-12-31&ordem=ASC&ordenarPor=id&pagina=104&itens=100\n",
      "next_page https://dadosabertos.camara.leg.br/api/v2/proposicoes?dataInicio=2019-01-01&dataFim=2019-12-31&ordem=ASC&ordenarPor=id&pagina=105&itens=100\n",
      "next_page https://dadosabertos.camara.leg.br/api/v2/proposicoes?dataInicio=2019-01-01&dataFim=2019-12-31&ordem=ASC&ordenarPor=id&pagina=106&itens=100\n",
      "next_page https://dadosabertos.camara.leg.br/api/v2/proposicoes?dataInicio=2019-01-01&dataFim=2019-12-31&ordem=ASC&ordenarPor=id&pagina=107&itens=100\n",
      "next_page https://dadosabertos.camara.leg.br/api/v2/proposicoes?dataInicio=2019-01-01&dataFim=2019-12-31&ordem=ASC&ordenarPor=id&pagina=108&itens=100\n",
      "next_page https://dadosabertos.camara.leg.br/api/v2/proposicoes?dataInicio=2019-01-01&dataFim=2019-12-31&ordem=ASC&ordenarPor=id&pagina=109&itens=100\n",
      "next_page https://dadosabertos.camara.leg.br/api/v2/proposicoes?dataInicio=2019-01-01&dataFim=2019-12-31&ordem=ASC&ordenarPor=id&pagina=110&itens=100\n",
      "next_page https://dadosabertos.camara.leg.br/api/v2/proposicoes?dataInicio=2019-01-01&dataFim=2019-12-31&ordem=ASC&ordenarPor=id&pagina=111&itens=100\n",
      "next_page https://dadosabertos.camara.leg.br/api/v2/proposicoes?dataInicio=2019-01-01&dataFim=2019-12-31&ordem=ASC&ordenarPor=id&pagina=112&itens=100\n",
      "next_page https://dadosabertos.camara.leg.br/api/v2/proposicoes?dataInicio=2019-01-01&dataFim=2019-12-31&ordem=ASC&ordenarPor=id&pagina=113&itens=100\n",
      "next_page https://dadosabertos.camara.leg.br/api/v2/proposicoes?dataInicio=2019-01-01&dataFim=2019-12-31&ordem=ASC&ordenarPor=id&pagina=114&itens=100\n",
      "next_page https://dadosabertos.camara.leg.br/api/v2/proposicoes?dataInicio=2019-01-01&dataFim=2019-12-31&ordem=ASC&ordenarPor=id&pagina=115&itens=100\n",
      "next_page https://dadosabertos.camara.leg.br/api/v2/proposicoes?dataInicio=2019-01-01&dataFim=2019-12-31&ordem=ASC&ordenarPor=id&pagina=116&itens=100\n",
      "next_page https://dadosabertos.camara.leg.br/api/v2/proposicoes?dataInicio=2019-01-01&dataFim=2019-12-31&ordem=ASC&ordenarPor=id&pagina=117&itens=100\n",
      "next_page https://dadosabertos.camara.leg.br/api/v2/proposicoes?dataInicio=2019-01-01&dataFim=2019-12-31&ordem=ASC&ordenarPor=id&pagina=118&itens=100\n",
      "next_page https://dadosabertos.camara.leg.br/api/v2/proposicoes?dataInicio=2019-01-01&dataFim=2019-12-31&ordem=ASC&ordenarPor=id&pagina=119&itens=100\n",
      "next_page https://dadosabertos.camara.leg.br/api/v2/proposicoes?dataInicio=2019-01-01&dataFim=2019-12-31&ordem=ASC&ordenarPor=id&pagina=120&itens=100\n",
      "next_page https://dadosabertos.camara.leg.br/api/v2/proposicoes?dataInicio=2019-01-01&dataFim=2019-12-31&ordem=ASC&ordenarPor=id&pagina=121&itens=100\n",
      "next_page https://dadosabertos.camara.leg.br/api/v2/proposicoes?dataInicio=2019-01-01&dataFim=2019-12-31&ordem=ASC&ordenarPor=id&pagina=122&itens=100\n",
      "next_page https://dadosabertos.camara.leg.br/api/v2/proposicoes?dataInicio=2019-01-01&dataFim=2019-12-31&ordem=ASC&ordenarPor=id&pagina=123&itens=100\n",
      "next_page https://dadosabertos.camara.leg.br/api/v2/proposicoes?dataInicio=2019-01-01&dataFim=2019-12-31&ordem=ASC&ordenarPor=id&pagina=124&itens=100\n",
      "next_page https://dadosabertos.camara.leg.br/api/v2/proposicoes?dataInicio=2019-01-01&dataFim=2019-12-31&ordem=ASC&ordenarPor=id&pagina=125&itens=100\n",
      "next_page https://dadosabertos.camara.leg.br/api/v2/proposicoes?dataInicio=2019-01-01&dataFim=2019-12-31&ordem=ASC&ordenarPor=id&pagina=126&itens=100\n",
      "next_page https://dadosabertos.camara.leg.br/api/v2/proposicoes?dataInicio=2019-01-01&dataFim=2019-12-31&ordem=ASC&ordenarPor=id&pagina=127&itens=100\n",
      "next_page https://dadosabertos.camara.leg.br/api/v2/proposicoes?dataInicio=2019-01-01&dataFim=2019-12-31&ordem=ASC&ordenarPor=id&pagina=128&itens=100\n",
      "next_page https://dadosabertos.camara.leg.br/api/v2/proposicoes?dataInicio=2019-01-01&dataFim=2019-12-31&ordem=ASC&ordenarPor=id&pagina=129&itens=100\n",
      "next_page https://dadosabertos.camara.leg.br/api/v2/proposicoes?dataInicio=2019-01-01&dataFim=2019-12-31&ordem=ASC&ordenarPor=id&pagina=130&itens=100\n",
      "next_page https://dadosabertos.camara.leg.br/api/v2/proposicoes?dataInicio=2019-01-01&dataFim=2019-12-31&ordem=ASC&ordenarPor=id&pagina=131&itens=100\n",
      "next_page https://dadosabertos.camara.leg.br/api/v2/proposicoes?dataInicio=2019-01-01&dataFim=2019-12-31&ordem=ASC&ordenarPor=id&pagina=132&itens=100\n",
      "next_page https://dadosabertos.camara.leg.br/api/v2/proposicoes?dataInicio=2019-01-01&dataFim=2019-12-31&ordem=ASC&ordenarPor=id&pagina=133&itens=100\n",
      "next_page https://dadosabertos.camara.leg.br/api/v2/proposicoes?dataInicio=2019-01-01&dataFim=2019-12-31&ordem=ASC&ordenarPor=id&pagina=134&itens=100\n",
      "next_page https://dadosabertos.camara.leg.br/api/v2/proposicoes?dataInicio=2019-01-01&dataFim=2019-12-31&ordem=ASC&ordenarPor=id&pagina=135&itens=100\n",
      "next_page https://dadosabertos.camara.leg.br/api/v2/proposicoes?dataInicio=2019-01-01&dataFim=2019-12-31&ordem=ASC&ordenarPor=id&pagina=136&itens=100\n",
      "next_page https://dadosabertos.camara.leg.br/api/v2/proposicoes?dataInicio=2019-01-01&dataFim=2019-12-31&ordem=ASC&ordenarPor=id&pagina=137&itens=100\n",
      "next_page https://dadosabertos.camara.leg.br/api/v2/proposicoes?dataInicio=2019-01-01&dataFim=2019-12-31&ordem=ASC&ordenarPor=id&pagina=138&itens=100\n",
      "next_page https://dadosabertos.camara.leg.br/api/v2/proposicoes?dataInicio=2019-01-01&dataFim=2019-12-31&ordem=ASC&ordenarPor=id&pagina=139&itens=100\n",
      "next_page https://dadosabertos.camara.leg.br/api/v2/proposicoes?dataInicio=2019-01-01&dataFim=2019-12-31&ordem=ASC&ordenarPor=id&pagina=140&itens=100\n",
      "next_page https://dadosabertos.camara.leg.br/api/v2/proposicoes?dataInicio=2019-01-01&dataFim=2019-12-31&ordem=ASC&ordenarPor=id&pagina=141&itens=100\n",
      "next_page https://dadosabertos.camara.leg.br/api/v2/proposicoes?dataInicio=2019-01-01&dataFim=2019-12-31&ordem=ASC&ordenarPor=id&pagina=142&itens=100\n",
      "next_page https://dadosabertos.camara.leg.br/api/v2/proposicoes?dataInicio=2019-01-01&dataFim=2019-12-31&ordem=ASC&ordenarPor=id&pagina=143&itens=100\n",
      "next_page https://dadosabertos.camara.leg.br/api/v2/proposicoes?dataInicio=2019-01-01&dataFim=2019-12-31&ordem=ASC&ordenarPor=id&pagina=144&itens=100\n",
      "next_page https://dadosabertos.camara.leg.br/api/v2/proposicoes?dataInicio=2019-01-01&dataFim=2019-12-31&ordem=ASC&ordenarPor=id&pagina=145&itens=100\n",
      "next_page https://dadosabertos.camara.leg.br/api/v2/proposicoes?dataInicio=2019-01-01&dataFim=2019-12-31&ordem=ASC&ordenarPor=id&pagina=146&itens=100\n",
      "next_page https://dadosabertos.camara.leg.br/api/v2/proposicoes?dataInicio=2019-01-01&dataFim=2019-12-31&ordem=ASC&ordenarPor=id&pagina=147&itens=100\n",
      "next_page https://dadosabertos.camara.leg.br/api/v2/proposicoes?dataInicio=2019-01-01&dataFim=2019-12-31&ordem=ASC&ordenarPor=id&pagina=148&itens=100\n",
      "next_page https://dadosabertos.camara.leg.br/api/v2/proposicoes?dataInicio=2019-01-01&dataFim=2019-12-31&ordem=ASC&ordenarPor=id&pagina=149&itens=100\n",
      "next_page https://dadosabertos.camara.leg.br/api/v2/proposicoes?dataInicio=2019-01-01&dataFim=2019-12-31&ordem=ASC&ordenarPor=id&pagina=150&itens=100\n",
      "next_page https://dadosabertos.camara.leg.br/api/v2/proposicoes?dataInicio=2019-01-01&dataFim=2019-12-31&ordem=ASC&ordenarPor=id&pagina=151&itens=100\n",
      "next_page https://dadosabertos.camara.leg.br/api/v2/proposicoes?dataInicio=2019-01-01&dataFim=2019-12-31&ordem=ASC&ordenarPor=id&pagina=152&itens=100\n",
      "next_page https://dadosabertos.camara.leg.br/api/v2/proposicoes?dataInicio=2019-01-01&dataFim=2019-12-31&ordem=ASC&ordenarPor=id&pagina=153&itens=100\n",
      "next_page https://dadosabertos.camara.leg.br/api/v2/proposicoes?dataInicio=2019-01-01&dataFim=2019-12-31&ordem=ASC&ordenarPor=id&pagina=154&itens=100\n",
      "next_page https://dadosabertos.camara.leg.br/api/v2/proposicoes?dataInicio=2019-01-01&dataFim=2019-12-31&ordem=ASC&ordenarPor=id&pagina=155&itens=100\n",
      "next_page https://dadosabertos.camara.leg.br/api/v2/proposicoes?dataInicio=2019-01-01&dataFim=2019-12-31&ordem=ASC&ordenarPor=id&pagina=156&itens=100\n",
      "next_page https://dadosabertos.camara.leg.br/api/v2/proposicoes?dataInicio=2019-01-01&dataFim=2019-12-31&ordem=ASC&ordenarPor=id&pagina=157&itens=100\n",
      "next_page https://dadosabertos.camara.leg.br/api/v2/proposicoes?dataInicio=2019-01-01&dataFim=2019-12-31&ordem=ASC&ordenarPor=id&pagina=158&itens=100\n",
      "next_page https://dadosabertos.camara.leg.br/api/v2/proposicoes?dataInicio=2019-01-01&dataFim=2019-12-31&ordem=ASC&ordenarPor=id&pagina=159&itens=100\n",
      "next_page https://dadosabertos.camara.leg.br/api/v2/proposicoes?dataInicio=2019-01-01&dataFim=2019-12-31&ordem=ASC&ordenarPor=id&pagina=160&itens=100\n",
      "next_page https://dadosabertos.camara.leg.br/api/v2/proposicoes?dataInicio=2019-01-01&dataFim=2019-12-31&ordem=ASC&ordenarPor=id&pagina=161&itens=100\n",
      "next_page https://dadosabertos.camara.leg.br/api/v2/proposicoes?dataInicio=2019-01-01&dataFim=2019-12-31&ordem=ASC&ordenarPor=id&pagina=162&itens=100\n",
      "next_page https://dadosabertos.camara.leg.br/api/v2/proposicoes?dataInicio=2019-01-01&dataFim=2019-12-31&ordem=ASC&ordenarPor=id&pagina=163&itens=100\n",
      "next_page https://dadosabertos.camara.leg.br/api/v2/proposicoes?dataInicio=2019-01-01&dataFim=2019-12-31&ordem=ASC&ordenarPor=id&pagina=164&itens=100\n",
      "next_page https://dadosabertos.camara.leg.br/api/v2/proposicoes?dataInicio=2019-01-01&dataFim=2019-12-31&ordem=ASC&ordenarPor=id&pagina=165&itens=100\n",
      "next_page https://dadosabertos.camara.leg.br/api/v2/proposicoes?dataInicio=2019-01-01&dataFim=2019-12-31&ordem=ASC&ordenarPor=id&pagina=166&itens=100\n",
      "next_page https://dadosabertos.camara.leg.br/api/v2/proposicoes?dataInicio=2019-01-01&dataFim=2019-12-31&ordem=ASC&ordenarPor=id&pagina=167&itens=100\n",
      "next_page https://dadosabertos.camara.leg.br/api/v2/proposicoes?dataInicio=2019-01-01&dataFim=2019-12-31&ordem=ASC&ordenarPor=id&pagina=168&itens=100\n",
      "next_page https://dadosabertos.camara.leg.br/api/v2/proposicoes?dataInicio=2019-01-01&dataFim=2019-12-31&ordem=ASC&ordenarPor=id&pagina=169&itens=100\n",
      "next_page https://dadosabertos.camara.leg.br/api/v2/proposicoes?dataInicio=2019-01-01&dataFim=2019-12-31&ordem=ASC&ordenarPor=id&pagina=170&itens=100\n",
      "next_page https://dadosabertos.camara.leg.br/api/v2/proposicoes?dataInicio=2019-01-01&dataFim=2019-12-31&ordem=ASC&ordenarPor=id&pagina=171&itens=100\n",
      "next_page https://dadosabertos.camara.leg.br/api/v2/proposicoes?dataInicio=2019-01-01&dataFim=2019-12-31&ordem=ASC&ordenarPor=id&pagina=172&itens=100\n",
      "next_page https://dadosabertos.camara.leg.br/api/v2/proposicoes?dataInicio=2019-01-01&dataFim=2019-12-31&ordem=ASC&ordenarPor=id&pagina=173&itens=100\n",
      "next_page https://dadosabertos.camara.leg.br/api/v2/proposicoes?dataInicio=2019-01-01&dataFim=2019-12-31&ordem=ASC&ordenarPor=id&pagina=174&itens=100\n",
      "next_page https://dadosabertos.camara.leg.br/api/v2/proposicoes?dataInicio=2019-01-01&dataFim=2019-12-31&ordem=ASC&ordenarPor=id&pagina=175&itens=100\n",
      "next_page https://dadosabertos.camara.leg.br/api/v2/proposicoes?dataInicio=2019-01-01&dataFim=2019-12-31&ordem=ASC&ordenarPor=id&pagina=176&itens=100\n",
      "next_page https://dadosabertos.camara.leg.br/api/v2/proposicoes?dataInicio=2019-01-01&dataFim=2019-12-31&ordem=ASC&ordenarPor=id&pagina=177&itens=100\n",
      "next_page https://dadosabertos.camara.leg.br/api/v2/proposicoes?dataInicio=2019-01-01&dataFim=2019-12-31&ordem=ASC&ordenarPor=id&pagina=178&itens=100\n",
      "next_page https://dadosabertos.camara.leg.br/api/v2/proposicoes?dataInicio=2019-01-01&dataFim=2019-12-31&ordem=ASC&ordenarPor=id&pagina=179&itens=100\n",
      "next_page https://dadosabertos.camara.leg.br/api/v2/proposicoes?dataInicio=2019-01-01&dataFim=2019-12-31&ordem=ASC&ordenarPor=id&pagina=180&itens=100\n",
      "next_page https://dadosabertos.camara.leg.br/api/v2/proposicoes?dataInicio=2019-01-01&dataFim=2019-12-31&ordem=ASC&ordenarPor=id&pagina=181&itens=100\n",
      "next_page https://dadosabertos.camara.leg.br/api/v2/proposicoes?dataInicio=2019-01-01&dataFim=2019-12-31&ordem=ASC&ordenarPor=id&pagina=182&itens=100\n",
      "next_page https://dadosabertos.camara.leg.br/api/v2/proposicoes?dataInicio=2019-01-01&dataFim=2019-12-31&ordem=ASC&ordenarPor=id&pagina=183&itens=100\n",
      "next_page https://dadosabertos.camara.leg.br/api/v2/proposicoes?dataInicio=2019-01-01&dataFim=2019-12-31&ordem=ASC&ordenarPor=id&pagina=184&itens=100\n",
      "next_page https://dadosabertos.camara.leg.br/api/v2/proposicoes?dataInicio=2019-01-01&dataFim=2019-12-31&ordem=ASC&ordenarPor=id&pagina=185&itens=100\n",
      "next_page https://dadosabertos.camara.leg.br/api/v2/proposicoes?dataInicio=2019-01-01&dataFim=2019-12-31&ordem=ASC&ordenarPor=id&pagina=186&itens=100\n",
      "next_page https://dadosabertos.camara.leg.br/api/v2/proposicoes?dataInicio=2019-01-01&dataFim=2019-12-31&ordem=ASC&ordenarPor=id&pagina=187&itens=100\n",
      "next_page https://dadosabertos.camara.leg.br/api/v2/proposicoes?dataInicio=2019-01-01&dataFim=2019-12-31&ordem=ASC&ordenarPor=id&pagina=188&itens=100\n",
      "next_page https://dadosabertos.camara.leg.br/api/v2/proposicoes?dataInicio=2019-01-01&dataFim=2019-12-31&ordem=ASC&ordenarPor=id&pagina=189&itens=100\n",
      "next_page https://dadosabertos.camara.leg.br/api/v2/proposicoes?dataInicio=2019-01-01&dataFim=2019-12-31&ordem=ASC&ordenarPor=id&pagina=190&itens=100\n",
      "next_page https://dadosabertos.camara.leg.br/api/v2/proposicoes?dataInicio=2019-01-01&dataFim=2019-12-31&ordem=ASC&ordenarPor=id&pagina=191&itens=100\n",
      "next_page https://dadosabertos.camara.leg.br/api/v2/proposicoes?dataInicio=2019-01-01&dataFim=2019-12-31&ordem=ASC&ordenarPor=id&pagina=192&itens=100\n",
      "next_page https://dadosabertos.camara.leg.br/api/v2/proposicoes?dataInicio=2019-01-01&dataFim=2019-12-31&ordem=ASC&ordenarPor=id&pagina=193&itens=100\n",
      "next_page https://dadosabertos.camara.leg.br/api/v2/proposicoes?dataInicio=2019-01-01&dataFim=2019-12-31&ordem=ASC&ordenarPor=id&pagina=194&itens=100\n",
      "next_page https://dadosabertos.camara.leg.br/api/v2/proposicoes?dataInicio=2019-01-01&dataFim=2019-12-31&ordem=ASC&ordenarPor=id&pagina=195&itens=100\n",
      "next_page https://dadosabertos.camara.leg.br/api/v2/proposicoes?dataInicio=2019-01-01&dataFim=2019-12-31&ordem=ASC&ordenarPor=id&pagina=196&itens=100\n",
      "next_page https://dadosabertos.camara.leg.br/api/v2/proposicoes?dataInicio=2019-01-01&dataFim=2019-12-31&ordem=ASC&ordenarPor=id&pagina=197&itens=100\n",
      "next_page https://dadosabertos.camara.leg.br/api/v2/proposicoes?dataInicio=2019-01-01&dataFim=2019-12-31&ordem=ASC&ordenarPor=id&pagina=198&itens=100\n",
      "next_page https://dadosabertos.camara.leg.br/api/v2/proposicoes?dataInicio=2019-01-01&dataFim=2019-12-31&ordem=ASC&ordenarPor=id&pagina=199&itens=100\n",
      "next_page https://dadosabertos.camara.leg.br/api/v2/proposicoes?dataInicio=2019-01-01&dataFim=2019-12-31&ordem=ASC&ordenarPor=id&pagina=200&itens=100\n",
      "next_page https://dadosabertos.camara.leg.br/api/v2/proposicoes?dataInicio=2019-01-01&dataFim=2019-12-31&ordem=ASC&ordenarPor=id&pagina=201&itens=100\n",
      "next_page https://dadosabertos.camara.leg.br/api/v2/proposicoes?dataInicio=2019-01-01&dataFim=2019-12-31&ordem=ASC&ordenarPor=id&pagina=202&itens=100\n",
      "next_page https://dadosabertos.camara.leg.br/api/v2/proposicoes?dataInicio=2019-01-01&dataFim=2019-12-31&ordem=ASC&ordenarPor=id&pagina=203&itens=100\n",
      "next_page https://dadosabertos.camara.leg.br/api/v2/proposicoes?dataInicio=2019-01-01&dataFim=2019-12-31&ordem=ASC&ordenarPor=id&pagina=204&itens=100\n",
      "next_page https://dadosabertos.camara.leg.br/api/v2/proposicoes?dataInicio=2019-01-01&dataFim=2019-12-31&ordem=ASC&ordenarPor=id&pagina=205&itens=100\n",
      "next_page https://dadosabertos.camara.leg.br/api/v2/proposicoes?dataInicio=2019-01-01&dataFim=2019-12-31&ordem=ASC&ordenarPor=id&pagina=206&itens=100\n",
      "next_page https://dadosabertos.camara.leg.br/api/v2/proposicoes?dataInicio=2019-01-01&dataFim=2019-12-31&ordem=ASC&ordenarPor=id&pagina=207&itens=100\n",
      "next_page https://dadosabertos.camara.leg.br/api/v2/proposicoes?dataInicio=2019-01-01&dataFim=2019-12-31&ordem=ASC&ordenarPor=id&pagina=208&itens=100\n",
      "next_page https://dadosabertos.camara.leg.br/api/v2/proposicoes?dataInicio=2019-01-01&dataFim=2019-12-31&ordem=ASC&ordenarPor=id&pagina=209&itens=100\n",
      "next_page https://dadosabertos.camara.leg.br/api/v2/proposicoes?dataInicio=2019-01-01&dataFim=2019-12-31&ordem=ASC&ordenarPor=id&pagina=210&itens=100\n",
      "next_page https://dadosabertos.camara.leg.br/api/v2/proposicoes?dataInicio=2019-01-01&dataFim=2019-12-31&ordem=ASC&ordenarPor=id&pagina=211&itens=100\n",
      "next_page https://dadosabertos.camara.leg.br/api/v2/proposicoes?dataInicio=2019-01-01&dataFim=2019-12-31&ordem=ASC&ordenarPor=id&pagina=212&itens=100\n",
      "next_page https://dadosabertos.camara.leg.br/api/v2/proposicoes?dataInicio=2019-01-01&dataFim=2019-12-31&ordem=ASC&ordenarPor=id&pagina=213&itens=100\n",
      "next_page https://dadosabertos.camara.leg.br/api/v2/proposicoes?dataInicio=2019-01-01&dataFim=2019-12-31&ordem=ASC&ordenarPor=id&pagina=214&itens=100\n",
      "next_page https://dadosabertos.camara.leg.br/api/v2/proposicoes?dataInicio=2019-01-01&dataFim=2019-12-31&ordem=ASC&ordenarPor=id&pagina=215&itens=100\n",
      "next_page https://dadosabertos.camara.leg.br/api/v2/proposicoes?dataInicio=2019-01-01&dataFim=2019-12-31&ordem=ASC&ordenarPor=id&pagina=216&itens=100\n",
      "next_page https://dadosabertos.camara.leg.br/api/v2/proposicoes?dataInicio=2019-01-01&dataFim=2019-12-31&ordem=ASC&ordenarPor=id&pagina=217&itens=100\n",
      "next_page https://dadosabertos.camara.leg.br/api/v2/proposicoes?dataInicio=2019-01-01&dataFim=2019-12-31&ordem=ASC&ordenarPor=id&pagina=218&itens=100\n",
      "next_page https://dadosabertos.camara.leg.br/api/v2/proposicoes?dataInicio=2019-01-01&dataFim=2019-12-31&ordem=ASC&ordenarPor=id&pagina=219&itens=100\n",
      "next_page https://dadosabertos.camara.leg.br/api/v2/proposicoes?dataInicio=2019-01-01&dataFim=2019-12-31&ordem=ASC&ordenarPor=id&pagina=220&itens=100\n",
      "next_page https://dadosabertos.camara.leg.br/api/v2/proposicoes?dataInicio=2019-01-01&dataFim=2019-12-31&ordem=ASC&ordenarPor=id&pagina=221&itens=100\n",
      "next_page https://dadosabertos.camara.leg.br/api/v2/proposicoes?dataInicio=2019-01-01&dataFim=2019-12-31&ordem=ASC&ordenarPor=id&pagina=222&itens=100\n",
      "next_page https://dadosabertos.camara.leg.br/api/v2/proposicoes?dataInicio=2019-01-01&dataFim=2019-12-31&ordem=ASC&ordenarPor=id&pagina=223&itens=100\n",
      "next_page https://dadosabertos.camara.leg.br/api/v2/proposicoes?dataInicio=2019-01-01&dataFim=2019-12-31&ordem=ASC&ordenarPor=id&pagina=224&itens=100\n",
      "next_page https://dadosabertos.camara.leg.br/api/v2/proposicoes?dataInicio=2019-01-01&dataFim=2019-12-31&ordem=ASC&ordenarPor=id&pagina=225&itens=100\n",
      "next_page https://dadosabertos.camara.leg.br/api/v2/proposicoes?dataInicio=2019-01-01&dataFim=2019-12-31&ordem=ASC&ordenarPor=id&pagina=226&itens=100\n",
      "next_page https://dadosabertos.camara.leg.br/api/v2/proposicoes?dataInicio=2019-01-01&dataFim=2019-12-31&ordem=ASC&ordenarPor=id&pagina=227&itens=100\n",
      "next_page https://dadosabertos.camara.leg.br/api/v2/proposicoes?dataInicio=2019-01-01&dataFim=2019-12-31&ordem=ASC&ordenarPor=id&pagina=228&itens=100\n",
      "next_page https://dadosabertos.camara.leg.br/api/v2/proposicoes?dataInicio=2019-01-01&dataFim=2019-12-31&ordem=ASC&ordenarPor=id&pagina=229&itens=100\n",
      "next_page https://dadosabertos.camara.leg.br/api/v2/proposicoes?dataInicio=2019-01-01&dataFim=2019-12-31&ordem=ASC&ordenarPor=id&pagina=230&itens=100\n",
      "next_page https://dadosabertos.camara.leg.br/api/v2/proposicoes?dataInicio=2019-01-01&dataFim=2019-12-31&ordem=ASC&ordenarPor=id&pagina=231&itens=100\n",
      "next_page https://dadosabertos.camara.leg.br/api/v2/proposicoes?dataInicio=2019-01-01&dataFim=2019-12-31&ordem=ASC&ordenarPor=id&pagina=232&itens=100\n",
      "next_page https://dadosabertos.camara.leg.br/api/v2/proposicoes?dataInicio=2019-01-01&dataFim=2019-12-31&ordem=ASC&ordenarPor=id&pagina=233&itens=100\n",
      "next_page https://dadosabertos.camara.leg.br/api/v2/proposicoes?dataInicio=2019-01-01&dataFim=2019-12-31&ordem=ASC&ordenarPor=id&pagina=234&itens=100\n",
      "next_page https://dadosabertos.camara.leg.br/api/v2/proposicoes?dataInicio=2019-01-01&dataFim=2019-12-31&ordem=ASC&ordenarPor=id&pagina=235&itens=100\n",
      "next_page https://dadosabertos.camara.leg.br/api/v2/proposicoes?dataInicio=2019-01-01&dataFim=2019-12-31&ordem=ASC&ordenarPor=id&pagina=236&itens=100\n",
      "next_page https://dadosabertos.camara.leg.br/api/v2/proposicoes?dataInicio=2019-01-01&dataFim=2019-12-31&ordem=ASC&ordenarPor=id&pagina=237&itens=100\n",
      "next_page https://dadosabertos.camara.leg.br/api/v2/proposicoes?dataInicio=2019-01-01&dataFim=2019-12-31&ordem=ASC&ordenarPor=id&pagina=238&itens=100\n",
      "next_page https://dadosabertos.camara.leg.br/api/v2/proposicoes?dataInicio=2019-01-01&dataFim=2019-12-31&ordem=ASC&ordenarPor=id&pagina=239&itens=100\n",
      "next_page https://dadosabertos.camara.leg.br/api/v2/proposicoes?dataInicio=2019-01-01&dataFim=2019-12-31&ordem=ASC&ordenarPor=id&pagina=240&itens=100\n",
      "next_page https://dadosabertos.camara.leg.br/api/v2/proposicoes?dataInicio=2019-01-01&dataFim=2019-12-31&ordem=ASC&ordenarPor=id&pagina=241&itens=100\n",
      "next_page https://dadosabertos.camara.leg.br/api/v2/proposicoes?dataInicio=2019-01-01&dataFim=2019-12-31&ordem=ASC&ordenarPor=id&pagina=242&itens=100\n",
      "next_page https://dadosabertos.camara.leg.br/api/v2/proposicoes?dataInicio=2019-01-01&dataFim=2019-12-31&ordem=ASC&ordenarPor=id&pagina=243&itens=100\n",
      "next_page https://dadosabertos.camara.leg.br/api/v2/proposicoes?dataInicio=2019-01-01&dataFim=2019-12-31&ordem=ASC&ordenarPor=id&pagina=244&itens=100\n",
      "next_page https://dadosabertos.camara.leg.br/api/v2/proposicoes?dataInicio=2019-01-01&dataFim=2019-12-31&ordem=ASC&ordenarPor=id&pagina=245&itens=100\n",
      "next_page https://dadosabertos.camara.leg.br/api/v2/proposicoes?dataInicio=2019-01-01&dataFim=2019-12-31&ordem=ASC&ordenarPor=id&pagina=246&itens=100\n",
      "next_page https://dadosabertos.camara.leg.br/api/v2/proposicoes?dataInicio=2019-01-01&dataFim=2019-12-31&ordem=ASC&ordenarPor=id&pagina=247&itens=100\n",
      "next_page https://dadosabertos.camara.leg.br/api/v2/proposicoes?dataInicio=2019-01-01&dataFim=2019-12-31&ordem=ASC&ordenarPor=id&pagina=248&itens=100\n",
      "next_page https://dadosabertos.camara.leg.br/api/v2/proposicoes?dataInicio=2019-01-01&dataFim=2019-12-31&ordem=ASC&ordenarPor=id&pagina=249&itens=100\n",
      "next_page https://dadosabertos.camara.leg.br/api/v2/proposicoes?dataInicio=2019-01-01&dataFim=2019-12-31&ordem=ASC&ordenarPor=id&pagina=250&itens=100\n",
      "next_page https://dadosabertos.camara.leg.br/api/v2/proposicoes?dataInicio=2019-01-01&dataFim=2019-12-31&ordem=ASC&ordenarPor=id&pagina=251&itens=100\n",
      "next_page https://dadosabertos.camara.leg.br/api/v2/proposicoes?dataInicio=2019-01-01&dataFim=2019-12-31&ordem=ASC&ordenarPor=id&pagina=252&itens=100\n",
      "next_page https://dadosabertos.camara.leg.br/api/v2/proposicoes?dataInicio=2019-01-01&dataFim=2019-12-31&ordem=ASC&ordenarPor=id&pagina=253&itens=100\n",
      "next_page https://dadosabertos.camara.leg.br/api/v2/proposicoes?dataInicio=2019-01-01&dataFim=2019-12-31&ordem=ASC&ordenarPor=id&pagina=254&itens=100\n",
      "next_page https://dadosabertos.camara.leg.br/api/v2/proposicoes?dataInicio=2019-01-01&dataFim=2019-12-31&ordem=ASC&ordenarPor=id&pagina=255&itens=100\n",
      "next_page https://dadosabertos.camara.leg.br/api/v2/proposicoes?dataInicio=2019-01-01&dataFim=2019-12-31&ordem=ASC&ordenarPor=id&pagina=256&itens=100\n",
      "next_page https://dadosabertos.camara.leg.br/api/v2/proposicoes?dataInicio=2019-01-01&dataFim=2019-12-31&ordem=ASC&ordenarPor=id&pagina=257&itens=100\n",
      "next_page https://dadosabertos.camara.leg.br/api/v2/proposicoes?dataInicio=2019-01-01&dataFim=2019-12-31&ordem=ASC&ordenarPor=id&pagina=258&itens=100\n",
      "next_page https://dadosabertos.camara.leg.br/api/v2/proposicoes?dataInicio=2019-01-01&dataFim=2019-12-31&ordem=ASC&ordenarPor=id&pagina=259&itens=100\n",
      "next_page https://dadosabertos.camara.leg.br/api/v2/proposicoes?dataInicio=2019-01-01&dataFim=2019-12-31&ordem=ASC&ordenarPor=id&pagina=260&itens=100\n",
      "next_page https://dadosabertos.camara.leg.br/api/v2/proposicoes?dataInicio=2019-01-01&dataFim=2019-12-31&ordem=ASC&ordenarPor=id&pagina=261&itens=100\n",
      "next_page https://dadosabertos.camara.leg.br/api/v2/proposicoes?dataInicio=2019-01-01&dataFim=2019-12-31&ordem=ASC&ordenarPor=id&pagina=262&itens=100\n",
      "next_page https://dadosabertos.camara.leg.br/api/v2/proposicoes?dataInicio=2019-01-01&dataFim=2019-12-31&ordem=ASC&ordenarPor=id&pagina=263&itens=100\n",
      "next_page https://dadosabertos.camara.leg.br/api/v2/proposicoes?dataInicio=2019-01-01&dataFim=2019-12-31&ordem=ASC&ordenarPor=id&pagina=264&itens=100\n",
      "next_page https://dadosabertos.camara.leg.br/api/v2/proposicoes?dataInicio=2019-01-01&dataFim=2019-12-31&ordem=ASC&ordenarPor=id&pagina=265&itens=100\n",
      "next_page https://dadosabertos.camara.leg.br/api/v2/proposicoes?dataInicio=2019-01-01&dataFim=2019-12-31&ordem=ASC&ordenarPor=id&pagina=266&itens=100\n",
      "next_page https://dadosabertos.camara.leg.br/api/v2/proposicoes?dataInicio=2019-01-01&dataFim=2019-12-31&ordem=ASC&ordenarPor=id&pagina=267&itens=100\n",
      "next_page https://dadosabertos.camara.leg.br/api/v2/proposicoes?dataInicio=2019-01-01&dataFim=2019-12-31&ordem=ASC&ordenarPor=id&pagina=268&itens=100\n",
      "next_page https://dadosabertos.camara.leg.br/api/v2/proposicoes?dataInicio=2019-01-01&dataFim=2019-12-31&ordem=ASC&ordenarPor=id&pagina=269&itens=100\n",
      "next_page https://dadosabertos.camara.leg.br/api/v2/proposicoes?dataInicio=2019-01-01&dataFim=2019-12-31&ordem=ASC&ordenarPor=id&pagina=270&itens=100\n",
      "next_page https://dadosabertos.camara.leg.br/api/v2/proposicoes?dataInicio=2019-01-01&dataFim=2019-12-31&ordem=ASC&ordenarPor=id&pagina=271&itens=100\n",
      "next_page https://dadosabertos.camara.leg.br/api/v2/proposicoes?dataInicio=2019-01-01&dataFim=2019-12-31&ordem=ASC&ordenarPor=id&pagina=272&itens=100\n",
      "next_page https://dadosabertos.camara.leg.br/api/v2/proposicoes?dataInicio=2019-01-01&dataFim=2019-12-31&ordem=ASC&ordenarPor=id&pagina=273&itens=100\n",
      "next_page https://dadosabertos.camara.leg.br/api/v2/proposicoes?dataInicio=2019-01-01&dataFim=2019-12-31&ordem=ASC&ordenarPor=id&pagina=274&itens=100\n",
      "next_page https://dadosabertos.camara.leg.br/api/v2/proposicoes?dataInicio=2019-01-01&dataFim=2019-12-31&ordem=ASC&ordenarPor=id&pagina=275&itens=100\n",
      "next_page https://dadosabertos.camara.leg.br/api/v2/proposicoes?dataInicio=2019-01-01&dataFim=2019-12-31&ordem=ASC&ordenarPor=id&pagina=276&itens=100\n",
      "next_page https://dadosabertos.camara.leg.br/api/v2/proposicoes?dataInicio=2019-01-01&dataFim=2019-12-31&ordem=ASC&ordenarPor=id&pagina=277&itens=100\n",
      "next_page https://dadosabertos.camara.leg.br/api/v2/proposicoes?dataInicio=2019-01-01&dataFim=2019-12-31&ordem=ASC&ordenarPor=id&pagina=278&itens=100\n",
      "next_page https://dadosabertos.camara.leg.br/api/v2/proposicoes?dataInicio=2019-01-01&dataFim=2019-12-31&ordem=ASC&ordenarPor=id&pagina=279&itens=100\n",
      "next_page https://dadosabertos.camara.leg.br/api/v2/proposicoes?dataInicio=2019-01-01&dataFim=2019-12-31&ordem=ASC&ordenarPor=id&pagina=280&itens=100\n",
      "next_page https://dadosabertos.camara.leg.br/api/v2/proposicoes?dataInicio=2019-01-01&dataFim=2019-12-31&ordem=ASC&ordenarPor=id&pagina=281&itens=100\n",
      "next_page https://dadosabertos.camara.leg.br/api/v2/proposicoes?dataInicio=2019-01-01&dataFim=2019-12-31&ordem=ASC&ordenarPor=id&pagina=282&itens=100\n",
      "next_page https://dadosabertos.camara.leg.br/api/v2/proposicoes?dataInicio=2019-01-01&dataFim=2019-12-31&ordem=ASC&ordenarPor=id&pagina=283&itens=100\n"
     ]
    },
    {
     "ename": "KeyboardInterrupt",
     "evalue": "",
     "output_type": "error",
     "traceback": [
      "\u001b[1;31m---------------------------------------------------------------------------\u001b[0m",
      "\u001b[1;31mKeyboardInterrupt\u001b[0m                         Traceback (most recent call last)",
      "\u001b[1;32m~\\AppData\\Local\\Temp\\ipykernel_10796\\606306148.py\u001b[0m in \u001b[0;36m<module>\u001b[1;34m\u001b[0m\n\u001b[0;32m      5\u001b[0m \u001b[1;32mfor\u001b[0m \u001b[0mano\u001b[0m \u001b[1;32min\u001b[0m \u001b[0manos\u001b[0m\u001b[1;33m:\u001b[0m\u001b[1;33m\u001b[0m\u001b[1;33m\u001b[0m\u001b[0m\n\u001b[0;32m      6\u001b[0m     \u001b[0mprint\u001b[0m\u001b[1;33m(\u001b[0m\u001b[1;34mf\"\\n\\nIteração do ano: {ano}\"\u001b[0m\u001b[1;33m)\u001b[0m\u001b[1;33m\u001b[0m\u001b[1;33m\u001b[0m\u001b[0m\n\u001b[1;32m----> 7\u001b[1;33m     \u001b[0mrun\u001b[0m\u001b[1;33m(\u001b[0m\u001b[0mano\u001b[0m\u001b[1;33m,\u001b[0m \u001b[0mtotal_threads\u001b[0m\u001b[1;33m)\u001b[0m\u001b[1;33m\u001b[0m\u001b[1;33m\u001b[0m\u001b[0m\n\u001b[0m",
      "\u001b[1;32m~\\AppData\\Local\\Temp\\ipykernel_10796\\2362699640.py\u001b[0m in \u001b[0;36mrun\u001b[1;34m(ano, total_threads)\u001b[0m\n\u001b[0;32m      1\u001b[0m \u001b[1;32mdef\u001b[0m \u001b[0mrun\u001b[0m\u001b[1;33m(\u001b[0m\u001b[0mano\u001b[0m\u001b[1;33m,\u001b[0m \u001b[0mtotal_threads\u001b[0m\u001b[1;33m)\u001b[0m\u001b[1;33m:\u001b[0m\u001b[1;33m\u001b[0m\u001b[1;33m\u001b[0m\u001b[0m\n\u001b[1;32m----> 2\u001b[1;33m     \u001b[0mresp_proposicoes\u001b[0m \u001b[1;33m=\u001b[0m \u001b[0mget_resp\u001b[0m\u001b[1;33m(\u001b[0m\u001b[0mano\u001b[0m\u001b[1;33m)\u001b[0m\u001b[1;33m\u001b[0m\u001b[1;33m\u001b[0m\u001b[0m\n\u001b[0m\u001b[0;32m      3\u001b[0m     \u001b[0mresult_dado\u001b[0m \u001b[1;33m=\u001b[0m \u001b[0mminera_dados\u001b[0m\u001b[1;33m(\u001b[0m\u001b[0mresp_proposicoes\u001b[0m\u001b[1;33m,\u001b[0m \u001b[0mtotal_threads\u001b[0m\u001b[1;33m)\u001b[0m\u001b[1;33m\u001b[0m\u001b[1;33m\u001b[0m\u001b[0m\n\u001b[0;32m      4\u001b[0m \u001b[1;33m\u001b[0m\u001b[0m\n\u001b[0;32m      5\u001b[0m     \u001b[0mdf\u001b[0m \u001b[1;33m=\u001b[0m \u001b[0mgera_df\u001b[0m\u001b[1;33m(\u001b[0m\u001b[0mresult_dado\u001b[0m\u001b[1;33m,\u001b[0m \u001b[0mtotal_threads\u001b[0m\u001b[1;33m)\u001b[0m\u001b[1;33m\u001b[0m\u001b[1;33m\u001b[0m\u001b[0m\n",
      "\u001b[1;32m~\\AppData\\Local\\Temp\\ipykernel_10796\\1084700168.py\u001b[0m in \u001b[0;36mget_resp\u001b[1;34m(ano)\u001b[0m\n\u001b[0;32m      1\u001b[0m \u001b[1;32mdef\u001b[0m \u001b[0mget_resp\u001b[0m\u001b[1;33m(\u001b[0m\u001b[0mano\u001b[0m\u001b[1;33m)\u001b[0m\u001b[1;33m:\u001b[0m\u001b[1;33m\u001b[0m\u001b[1;33m\u001b[0m\u001b[0m\n\u001b[1;32m----> 2\u001b[1;33m     \u001b[0mresp_proposicoes\u001b[0m \u001b[1;33m=\u001b[0m \u001b[0mget_dados\u001b[0m\u001b[1;33m(\u001b[0m\u001b[0mano\u001b[0m\u001b[1;33m,\u001b[0m \u001b[0mano\u001b[0m\u001b[1;33m)\u001b[0m\u001b[1;33m\u001b[0m\u001b[1;33m\u001b[0m\u001b[0m\n\u001b[0m\u001b[0;32m      3\u001b[0m     \u001b[0mprint\u001b[0m\u001b[1;33m(\u001b[0m\u001b[1;34mf\"Nro. de proposições no ano de {ano}: {len(resp_proposicoes)}\"\u001b[0m\u001b[1;33m)\u001b[0m\u001b[1;33m\u001b[0m\u001b[1;33m\u001b[0m\u001b[0m\n\u001b[0;32m      4\u001b[0m \u001b[1;33m\u001b[0m\u001b[0m\n\u001b[0;32m      5\u001b[0m     \u001b[1;32mreturn\u001b[0m \u001b[0mresp_proposicoes\u001b[0m\u001b[1;33m\u001b[0m\u001b[1;33m\u001b[0m\u001b[0m\n",
      "\u001b[1;32m~\\AppData\\Local\\Temp\\ipykernel_10796\\2269179190.py\u001b[0m in \u001b[0;36mget_dados\u001b[1;34m(start, end)\u001b[0m\n\u001b[0;32m      5\u001b[0m     \u001b[1;32mwhile\u001b[0m\u001b[1;33m(\u001b[0m\u001b[0mano\u001b[0m \u001b[1;33m<=\u001b[0m \u001b[0mend\u001b[0m\u001b[1;33m)\u001b[0m\u001b[1;33m:\u001b[0m\u001b[1;33m\u001b[0m\u001b[1;33m\u001b[0m\u001b[0m\n\u001b[0;32m      6\u001b[0m         \u001b[0murl\u001b[0m \u001b[1;33m=\u001b[0m \u001b[1;34m\"https://dadosabertos.camara.leg.br/api/v2/proposicoes?dataInicio={dataInicio}&dataFim={dataFim}&itens={itens}&ordem=ASC&ordenarPor=id\"\u001b[0m\u001b[1;33m.\u001b[0m\u001b[0mformat\u001b[0m\u001b[1;33m(\u001b[0m\u001b[0mdataInicio\u001b[0m\u001b[1;33m=\u001b[0m\u001b[0mstr\u001b[0m\u001b[1;33m(\u001b[0m\u001b[0mano\u001b[0m\u001b[1;33m)\u001b[0m\u001b[1;33m+\u001b[0m\u001b[1;34m\"-01-01\"\u001b[0m\u001b[1;33m,\u001b[0m\u001b[0mdataFim\u001b[0m\u001b[1;33m=\u001b[0m\u001b[0mstr\u001b[0m\u001b[1;33m(\u001b[0m\u001b[0mano\u001b[0m\u001b[1;33m)\u001b[0m\u001b[1;33m+\u001b[0m\u001b[1;34m\"-12-31\"\u001b[0m\u001b[1;33m,\u001b[0m\u001b[0mitens\u001b[0m\u001b[1;33m=\u001b[0m\u001b[1;36m10000\u001b[0m\u001b[1;33m)\u001b[0m\u001b[1;33m\u001b[0m\u001b[1;33m\u001b[0m\u001b[0m\n\u001b[1;32m----> 7\u001b[1;33m         \u001b[0mresp_aux\u001b[0m \u001b[1;33m=\u001b[0m \u001b[0mget_proposicoes_ano\u001b[0m\u001b[1;33m(\u001b[0m\u001b[0murl\u001b[0m\u001b[1;33m)\u001b[0m\u001b[1;33m\u001b[0m\u001b[1;33m\u001b[0m\u001b[0m\n\u001b[0m\u001b[0;32m      8\u001b[0m \u001b[1;33m\u001b[0m\u001b[0m\n\u001b[0;32m      9\u001b[0m         \u001b[0mresp\u001b[0m \u001b[1;33m=\u001b[0m \u001b[0mresp\u001b[0m \u001b[1;33m+\u001b[0m \u001b[0mresp_aux\u001b[0m\u001b[1;33m\u001b[0m\u001b[1;33m\u001b[0m\u001b[0m\n",
      "\u001b[1;32m~\\AppData\\Local\\Temp\\ipykernel_10796\\3891682298.py\u001b[0m in \u001b[0;36mget_proposicoes_ano\u001b[1;34m(url)\u001b[0m\n\u001b[0;32m     17\u001b[0m \u001b[1;33m\u001b[0m\u001b[0m\n\u001b[0;32m     18\u001b[0m             \u001b[0mprint\u001b[0m\u001b[1;33m(\u001b[0m\u001b[1;34m\"next_page\"\u001b[0m\u001b[1;33m,\u001b[0m \u001b[0mnext_page\u001b[0m\u001b[1;33m)\u001b[0m\u001b[1;33m\u001b[0m\u001b[1;33m\u001b[0m\u001b[0m\n\u001b[1;32m---> 19\u001b[1;33m             \u001b[0mresp1\u001b[0m \u001b[1;33m=\u001b[0m \u001b[0mrequests\u001b[0m\u001b[1;33m.\u001b[0m\u001b[0mget\u001b[0m\u001b[1;33m(\u001b[0m\u001b[0mnext_page\u001b[0m\u001b[1;33m)\u001b[0m\u001b[1;33m.\u001b[0m\u001b[0mjson\u001b[0m\u001b[1;33m(\u001b[0m\u001b[1;33m)\u001b[0m\u001b[1;33m\u001b[0m\u001b[1;33m\u001b[0m\u001b[0m\n\u001b[0m\u001b[0;32m     20\u001b[0m \u001b[1;33m\u001b[0m\u001b[0m\n\u001b[0;32m     21\u001b[0m     \u001b[1;32mreturn\u001b[0m \u001b[0mresp\u001b[0m\u001b[1;33m\u001b[0m\u001b[1;33m\u001b[0m\u001b[0m\n",
      "\u001b[1;32mc:\\ProgramData\\Anaconda3\\lib\\site-packages\\requests\\api.py\u001b[0m in \u001b[0;36mget\u001b[1;34m(url, params, **kwargs)\u001b[0m\n\u001b[0;32m     71\u001b[0m     \"\"\"\n\u001b[0;32m     72\u001b[0m \u001b[1;33m\u001b[0m\u001b[0m\n\u001b[1;32m---> 73\u001b[1;33m     \u001b[1;32mreturn\u001b[0m \u001b[0mrequest\u001b[0m\u001b[1;33m(\u001b[0m\u001b[1;34m\"get\"\u001b[0m\u001b[1;33m,\u001b[0m \u001b[0murl\u001b[0m\u001b[1;33m,\u001b[0m \u001b[0mparams\u001b[0m\u001b[1;33m=\u001b[0m\u001b[0mparams\u001b[0m\u001b[1;33m,\u001b[0m \u001b[1;33m**\u001b[0m\u001b[0mkwargs\u001b[0m\u001b[1;33m)\u001b[0m\u001b[1;33m\u001b[0m\u001b[1;33m\u001b[0m\u001b[0m\n\u001b[0m\u001b[0;32m     74\u001b[0m \u001b[1;33m\u001b[0m\u001b[0m\n\u001b[0;32m     75\u001b[0m \u001b[1;33m\u001b[0m\u001b[0m\n",
      "\u001b[1;32mc:\\ProgramData\\Anaconda3\\lib\\site-packages\\requests\\api.py\u001b[0m in \u001b[0;36mrequest\u001b[1;34m(method, url, **kwargs)\u001b[0m\n\u001b[0;32m     57\u001b[0m     \u001b[1;31m# cases, and look like a memory leak in others.\u001b[0m\u001b[1;33m\u001b[0m\u001b[1;33m\u001b[0m\u001b[0m\n\u001b[0;32m     58\u001b[0m     \u001b[1;32mwith\u001b[0m \u001b[0msessions\u001b[0m\u001b[1;33m.\u001b[0m\u001b[0mSession\u001b[0m\u001b[1;33m(\u001b[0m\u001b[1;33m)\u001b[0m \u001b[1;32mas\u001b[0m \u001b[0msession\u001b[0m\u001b[1;33m:\u001b[0m\u001b[1;33m\u001b[0m\u001b[1;33m\u001b[0m\u001b[0m\n\u001b[1;32m---> 59\u001b[1;33m         \u001b[1;32mreturn\u001b[0m \u001b[0msession\u001b[0m\u001b[1;33m.\u001b[0m\u001b[0mrequest\u001b[0m\u001b[1;33m(\u001b[0m\u001b[0mmethod\u001b[0m\u001b[1;33m=\u001b[0m\u001b[0mmethod\u001b[0m\u001b[1;33m,\u001b[0m \u001b[0murl\u001b[0m\u001b[1;33m=\u001b[0m\u001b[0murl\u001b[0m\u001b[1;33m,\u001b[0m \u001b[1;33m**\u001b[0m\u001b[0mkwargs\u001b[0m\u001b[1;33m)\u001b[0m\u001b[1;33m\u001b[0m\u001b[1;33m\u001b[0m\u001b[0m\n\u001b[0m\u001b[0;32m     60\u001b[0m \u001b[1;33m\u001b[0m\u001b[0m\n\u001b[0;32m     61\u001b[0m \u001b[1;33m\u001b[0m\u001b[0m\n",
      "\u001b[1;32mc:\\ProgramData\\Anaconda3\\lib\\site-packages\\requests\\sessions.py\u001b[0m in \u001b[0;36mrequest\u001b[1;34m(self, method, url, params, data, headers, cookies, files, auth, timeout, allow_redirects, proxies, hooks, stream, verify, cert, json)\u001b[0m\n\u001b[0;32m    585\u001b[0m         }\n\u001b[0;32m    586\u001b[0m         \u001b[0msend_kwargs\u001b[0m\u001b[1;33m.\u001b[0m\u001b[0mupdate\u001b[0m\u001b[1;33m(\u001b[0m\u001b[0msettings\u001b[0m\u001b[1;33m)\u001b[0m\u001b[1;33m\u001b[0m\u001b[1;33m\u001b[0m\u001b[0m\n\u001b[1;32m--> 587\u001b[1;33m         \u001b[0mresp\u001b[0m \u001b[1;33m=\u001b[0m \u001b[0mself\u001b[0m\u001b[1;33m.\u001b[0m\u001b[0msend\u001b[0m\u001b[1;33m(\u001b[0m\u001b[0mprep\u001b[0m\u001b[1;33m,\u001b[0m \u001b[1;33m**\u001b[0m\u001b[0msend_kwargs\u001b[0m\u001b[1;33m)\u001b[0m\u001b[1;33m\u001b[0m\u001b[1;33m\u001b[0m\u001b[0m\n\u001b[0m\u001b[0;32m    588\u001b[0m \u001b[1;33m\u001b[0m\u001b[0m\n\u001b[0;32m    589\u001b[0m         \u001b[1;32mreturn\u001b[0m \u001b[0mresp\u001b[0m\u001b[1;33m\u001b[0m\u001b[1;33m\u001b[0m\u001b[0m\n",
      "\u001b[1;32mc:\\ProgramData\\Anaconda3\\lib\\site-packages\\requests\\sessions.py\u001b[0m in \u001b[0;36msend\u001b[1;34m(self, request, **kwargs)\u001b[0m\n\u001b[0;32m    699\u001b[0m \u001b[1;33m\u001b[0m\u001b[0m\n\u001b[0;32m    700\u001b[0m         \u001b[1;31m# Send the request\u001b[0m\u001b[1;33m\u001b[0m\u001b[1;33m\u001b[0m\u001b[0m\n\u001b[1;32m--> 701\u001b[1;33m         \u001b[0mr\u001b[0m \u001b[1;33m=\u001b[0m \u001b[0madapter\u001b[0m\u001b[1;33m.\u001b[0m\u001b[0msend\u001b[0m\u001b[1;33m(\u001b[0m\u001b[0mrequest\u001b[0m\u001b[1;33m,\u001b[0m \u001b[1;33m**\u001b[0m\u001b[0mkwargs\u001b[0m\u001b[1;33m)\u001b[0m\u001b[1;33m\u001b[0m\u001b[1;33m\u001b[0m\u001b[0m\n\u001b[0m\u001b[0;32m    702\u001b[0m \u001b[1;33m\u001b[0m\u001b[0m\n\u001b[0;32m    703\u001b[0m         \u001b[1;31m# Total elapsed time of the request (approximately)\u001b[0m\u001b[1;33m\u001b[0m\u001b[1;33m\u001b[0m\u001b[0m\n",
      "\u001b[1;32mc:\\ProgramData\\Anaconda3\\lib\\site-packages\\requests\\adapters.py\u001b[0m in \u001b[0;36msend\u001b[1;34m(self, request, stream, timeout, verify, cert, proxies)\u001b[0m\n\u001b[0;32m    487\u001b[0m         \u001b[1;32mtry\u001b[0m\u001b[1;33m:\u001b[0m\u001b[1;33m\u001b[0m\u001b[1;33m\u001b[0m\u001b[0m\n\u001b[0;32m    488\u001b[0m             \u001b[1;32mif\u001b[0m \u001b[1;32mnot\u001b[0m \u001b[0mchunked\u001b[0m\u001b[1;33m:\u001b[0m\u001b[1;33m\u001b[0m\u001b[1;33m\u001b[0m\u001b[0m\n\u001b[1;32m--> 489\u001b[1;33m                 resp = conn.urlopen(\n\u001b[0m\u001b[0;32m    490\u001b[0m                     \u001b[0mmethod\u001b[0m\u001b[1;33m=\u001b[0m\u001b[0mrequest\u001b[0m\u001b[1;33m.\u001b[0m\u001b[0mmethod\u001b[0m\u001b[1;33m,\u001b[0m\u001b[1;33m\u001b[0m\u001b[1;33m\u001b[0m\u001b[0m\n\u001b[0;32m    491\u001b[0m                     \u001b[0murl\u001b[0m\u001b[1;33m=\u001b[0m\u001b[0murl\u001b[0m\u001b[1;33m,\u001b[0m\u001b[1;33m\u001b[0m\u001b[1;33m\u001b[0m\u001b[0m\n",
      "\u001b[1;32mc:\\ProgramData\\Anaconda3\\lib\\site-packages\\urllib3\\connectionpool.py\u001b[0m in \u001b[0;36murlopen\u001b[1;34m(self, method, url, body, headers, retries, redirect, assert_same_host, timeout, pool_timeout, release_conn, chunked, body_pos, **response_kw)\u001b[0m\n\u001b[0;32m    701\u001b[0m \u001b[1;33m\u001b[0m\u001b[0m\n\u001b[0;32m    702\u001b[0m             \u001b[1;31m# Make the request on the httplib connection object.\u001b[0m\u001b[1;33m\u001b[0m\u001b[1;33m\u001b[0m\u001b[0m\n\u001b[1;32m--> 703\u001b[1;33m             httplib_response = self._make_request(\n\u001b[0m\u001b[0;32m    704\u001b[0m                 \u001b[0mconn\u001b[0m\u001b[1;33m,\u001b[0m\u001b[1;33m\u001b[0m\u001b[1;33m\u001b[0m\u001b[0m\n\u001b[0;32m    705\u001b[0m                 \u001b[0mmethod\u001b[0m\u001b[1;33m,\u001b[0m\u001b[1;33m\u001b[0m\u001b[1;33m\u001b[0m\u001b[0m\n",
      "\u001b[1;32mc:\\ProgramData\\Anaconda3\\lib\\site-packages\\urllib3\\connectionpool.py\u001b[0m in \u001b[0;36m_make_request\u001b[1;34m(self, conn, method, url, timeout, chunked, **httplib_request_kw)\u001b[0m\n\u001b[0;32m    447\u001b[0m                     \u001b[1;31m# Python 3 (including for exceptions like SystemExit).\u001b[0m\u001b[1;33m\u001b[0m\u001b[1;33m\u001b[0m\u001b[0m\n\u001b[0;32m    448\u001b[0m                     \u001b[1;31m# Otherwise it looks like a bug in the code.\u001b[0m\u001b[1;33m\u001b[0m\u001b[1;33m\u001b[0m\u001b[0m\n\u001b[1;32m--> 449\u001b[1;33m                     \u001b[0msix\u001b[0m\u001b[1;33m.\u001b[0m\u001b[0mraise_from\u001b[0m\u001b[1;33m(\u001b[0m\u001b[0me\u001b[0m\u001b[1;33m,\u001b[0m \u001b[1;32mNone\u001b[0m\u001b[1;33m)\u001b[0m\u001b[1;33m\u001b[0m\u001b[1;33m\u001b[0m\u001b[0m\n\u001b[0m\u001b[0;32m    450\u001b[0m         \u001b[1;32mexcept\u001b[0m \u001b[1;33m(\u001b[0m\u001b[0mSocketTimeout\u001b[0m\u001b[1;33m,\u001b[0m \u001b[0mBaseSSLError\u001b[0m\u001b[1;33m,\u001b[0m \u001b[0mSocketError\u001b[0m\u001b[1;33m)\u001b[0m \u001b[1;32mas\u001b[0m \u001b[0me\u001b[0m\u001b[1;33m:\u001b[0m\u001b[1;33m\u001b[0m\u001b[1;33m\u001b[0m\u001b[0m\n\u001b[0;32m    451\u001b[0m             \u001b[0mself\u001b[0m\u001b[1;33m.\u001b[0m\u001b[0m_raise_timeout\u001b[0m\u001b[1;33m(\u001b[0m\u001b[0merr\u001b[0m\u001b[1;33m=\u001b[0m\u001b[0me\u001b[0m\u001b[1;33m,\u001b[0m \u001b[0murl\u001b[0m\u001b[1;33m=\u001b[0m\u001b[0murl\u001b[0m\u001b[1;33m,\u001b[0m \u001b[0mtimeout_value\u001b[0m\u001b[1;33m=\u001b[0m\u001b[0mread_timeout\u001b[0m\u001b[1;33m)\u001b[0m\u001b[1;33m\u001b[0m\u001b[1;33m\u001b[0m\u001b[0m\n",
      "\u001b[1;32mc:\\ProgramData\\Anaconda3\\lib\\site-packages\\urllib3\\packages\\six.py\u001b[0m in \u001b[0;36mraise_from\u001b[1;34m(value, from_value)\u001b[0m\n",
      "\u001b[1;32mc:\\ProgramData\\Anaconda3\\lib\\site-packages\\urllib3\\connectionpool.py\u001b[0m in \u001b[0;36m_make_request\u001b[1;34m(self, conn, method, url, timeout, chunked, **httplib_request_kw)\u001b[0m\n\u001b[0;32m    442\u001b[0m                 \u001b[1;31m# Python 3\u001b[0m\u001b[1;33m\u001b[0m\u001b[1;33m\u001b[0m\u001b[0m\n\u001b[0;32m    443\u001b[0m                 \u001b[1;32mtry\u001b[0m\u001b[1;33m:\u001b[0m\u001b[1;33m\u001b[0m\u001b[1;33m\u001b[0m\u001b[0m\n\u001b[1;32m--> 444\u001b[1;33m                     \u001b[0mhttplib_response\u001b[0m \u001b[1;33m=\u001b[0m \u001b[0mconn\u001b[0m\u001b[1;33m.\u001b[0m\u001b[0mgetresponse\u001b[0m\u001b[1;33m(\u001b[0m\u001b[1;33m)\u001b[0m\u001b[1;33m\u001b[0m\u001b[1;33m\u001b[0m\u001b[0m\n\u001b[0m\u001b[0;32m    445\u001b[0m                 \u001b[1;32mexcept\u001b[0m \u001b[0mBaseException\u001b[0m \u001b[1;32mas\u001b[0m \u001b[0me\u001b[0m\u001b[1;33m:\u001b[0m\u001b[1;33m\u001b[0m\u001b[1;33m\u001b[0m\u001b[0m\n\u001b[0;32m    446\u001b[0m                     \u001b[1;31m# Remove the TypeError from the exception chain in\u001b[0m\u001b[1;33m\u001b[0m\u001b[1;33m\u001b[0m\u001b[0m\n",
      "\u001b[1;32mc:\\ProgramData\\Anaconda3\\lib\\http\\client.py\u001b[0m in \u001b[0;36mgetresponse\u001b[1;34m(self)\u001b[0m\n\u001b[0;32m   1375\u001b[0m         \u001b[1;32mtry\u001b[0m\u001b[1;33m:\u001b[0m\u001b[1;33m\u001b[0m\u001b[1;33m\u001b[0m\u001b[0m\n\u001b[0;32m   1376\u001b[0m             \u001b[1;32mtry\u001b[0m\u001b[1;33m:\u001b[0m\u001b[1;33m\u001b[0m\u001b[1;33m\u001b[0m\u001b[0m\n\u001b[1;32m-> 1377\u001b[1;33m                 \u001b[0mresponse\u001b[0m\u001b[1;33m.\u001b[0m\u001b[0mbegin\u001b[0m\u001b[1;33m(\u001b[0m\u001b[1;33m)\u001b[0m\u001b[1;33m\u001b[0m\u001b[1;33m\u001b[0m\u001b[0m\n\u001b[0m\u001b[0;32m   1378\u001b[0m             \u001b[1;32mexcept\u001b[0m \u001b[0mConnectionError\u001b[0m\u001b[1;33m:\u001b[0m\u001b[1;33m\u001b[0m\u001b[1;33m\u001b[0m\u001b[0m\n\u001b[0;32m   1379\u001b[0m                 \u001b[0mself\u001b[0m\u001b[1;33m.\u001b[0m\u001b[0mclose\u001b[0m\u001b[1;33m(\u001b[0m\u001b[1;33m)\u001b[0m\u001b[1;33m\u001b[0m\u001b[1;33m\u001b[0m\u001b[0m\n",
      "\u001b[1;32mc:\\ProgramData\\Anaconda3\\lib\\http\\client.py\u001b[0m in \u001b[0;36mbegin\u001b[1;34m(self)\u001b[0m\n\u001b[0;32m    318\u001b[0m         \u001b[1;31m# read until we get a non-100 response\u001b[0m\u001b[1;33m\u001b[0m\u001b[1;33m\u001b[0m\u001b[0m\n\u001b[0;32m    319\u001b[0m         \u001b[1;32mwhile\u001b[0m \u001b[1;32mTrue\u001b[0m\u001b[1;33m:\u001b[0m\u001b[1;33m\u001b[0m\u001b[1;33m\u001b[0m\u001b[0m\n\u001b[1;32m--> 320\u001b[1;33m             \u001b[0mversion\u001b[0m\u001b[1;33m,\u001b[0m \u001b[0mstatus\u001b[0m\u001b[1;33m,\u001b[0m \u001b[0mreason\u001b[0m \u001b[1;33m=\u001b[0m \u001b[0mself\u001b[0m\u001b[1;33m.\u001b[0m\u001b[0m_read_status\u001b[0m\u001b[1;33m(\u001b[0m\u001b[1;33m)\u001b[0m\u001b[1;33m\u001b[0m\u001b[1;33m\u001b[0m\u001b[0m\n\u001b[0m\u001b[0;32m    321\u001b[0m             \u001b[1;32mif\u001b[0m \u001b[0mstatus\u001b[0m \u001b[1;33m!=\u001b[0m \u001b[0mCONTINUE\u001b[0m\u001b[1;33m:\u001b[0m\u001b[1;33m\u001b[0m\u001b[1;33m\u001b[0m\u001b[0m\n\u001b[0;32m    322\u001b[0m                 \u001b[1;32mbreak\u001b[0m\u001b[1;33m\u001b[0m\u001b[1;33m\u001b[0m\u001b[0m\n",
      "\u001b[1;32mc:\\ProgramData\\Anaconda3\\lib\\http\\client.py\u001b[0m in \u001b[0;36m_read_status\u001b[1;34m(self)\u001b[0m\n\u001b[0;32m    279\u001b[0m \u001b[1;33m\u001b[0m\u001b[0m\n\u001b[0;32m    280\u001b[0m     \u001b[1;32mdef\u001b[0m \u001b[0m_read_status\u001b[0m\u001b[1;33m(\u001b[0m\u001b[0mself\u001b[0m\u001b[1;33m)\u001b[0m\u001b[1;33m:\u001b[0m\u001b[1;33m\u001b[0m\u001b[1;33m\u001b[0m\u001b[0m\n\u001b[1;32m--> 281\u001b[1;33m         \u001b[0mline\u001b[0m \u001b[1;33m=\u001b[0m \u001b[0mstr\u001b[0m\u001b[1;33m(\u001b[0m\u001b[0mself\u001b[0m\u001b[1;33m.\u001b[0m\u001b[0mfp\u001b[0m\u001b[1;33m.\u001b[0m\u001b[0mreadline\u001b[0m\u001b[1;33m(\u001b[0m\u001b[0m_MAXLINE\u001b[0m \u001b[1;33m+\u001b[0m \u001b[1;36m1\u001b[0m\u001b[1;33m)\u001b[0m\u001b[1;33m,\u001b[0m \u001b[1;34m\"iso-8859-1\"\u001b[0m\u001b[1;33m)\u001b[0m\u001b[1;33m\u001b[0m\u001b[1;33m\u001b[0m\u001b[0m\n\u001b[0m\u001b[0;32m    282\u001b[0m         \u001b[1;32mif\u001b[0m \u001b[0mlen\u001b[0m\u001b[1;33m(\u001b[0m\u001b[0mline\u001b[0m\u001b[1;33m)\u001b[0m \u001b[1;33m>\u001b[0m \u001b[0m_MAXLINE\u001b[0m\u001b[1;33m:\u001b[0m\u001b[1;33m\u001b[0m\u001b[1;33m\u001b[0m\u001b[0m\n\u001b[0;32m    283\u001b[0m             \u001b[1;32mraise\u001b[0m \u001b[0mLineTooLong\u001b[0m\u001b[1;33m(\u001b[0m\u001b[1;34m\"status line\"\u001b[0m\u001b[1;33m)\u001b[0m\u001b[1;33m\u001b[0m\u001b[1;33m\u001b[0m\u001b[0m\n",
      "\u001b[1;32mc:\\ProgramData\\Anaconda3\\lib\\socket.py\u001b[0m in \u001b[0;36mreadinto\u001b[1;34m(self, b)\u001b[0m\n\u001b[0;32m    702\u001b[0m         \u001b[1;32mwhile\u001b[0m \u001b[1;32mTrue\u001b[0m\u001b[1;33m:\u001b[0m\u001b[1;33m\u001b[0m\u001b[1;33m\u001b[0m\u001b[0m\n\u001b[0;32m    703\u001b[0m             \u001b[1;32mtry\u001b[0m\u001b[1;33m:\u001b[0m\u001b[1;33m\u001b[0m\u001b[1;33m\u001b[0m\u001b[0m\n\u001b[1;32m--> 704\u001b[1;33m                 \u001b[1;32mreturn\u001b[0m \u001b[0mself\u001b[0m\u001b[1;33m.\u001b[0m\u001b[0m_sock\u001b[0m\u001b[1;33m.\u001b[0m\u001b[0mrecv_into\u001b[0m\u001b[1;33m(\u001b[0m\u001b[0mb\u001b[0m\u001b[1;33m)\u001b[0m\u001b[1;33m\u001b[0m\u001b[1;33m\u001b[0m\u001b[0m\n\u001b[0m\u001b[0;32m    705\u001b[0m             \u001b[1;32mexcept\u001b[0m \u001b[0mtimeout\u001b[0m\u001b[1;33m:\u001b[0m\u001b[1;33m\u001b[0m\u001b[1;33m\u001b[0m\u001b[0m\n\u001b[0;32m    706\u001b[0m                 \u001b[0mself\u001b[0m\u001b[1;33m.\u001b[0m\u001b[0m_timeout_occurred\u001b[0m \u001b[1;33m=\u001b[0m \u001b[1;32mTrue\u001b[0m\u001b[1;33m\u001b[0m\u001b[1;33m\u001b[0m\u001b[0m\n",
      "\u001b[1;32mc:\\ProgramData\\Anaconda3\\lib\\ssl.py\u001b[0m in \u001b[0;36mrecv_into\u001b[1;34m(self, buffer, nbytes, flags)\u001b[0m\n\u001b[0;32m   1240\u001b[0m                   \u001b[1;34m\"non-zero flags not allowed in calls to recv_into() on %s\"\u001b[0m \u001b[1;33m%\u001b[0m\u001b[1;33m\u001b[0m\u001b[1;33m\u001b[0m\u001b[0m\n\u001b[0;32m   1241\u001b[0m                   self.__class__)\n\u001b[1;32m-> 1242\u001b[1;33m             \u001b[1;32mreturn\u001b[0m \u001b[0mself\u001b[0m\u001b[1;33m.\u001b[0m\u001b[0mread\u001b[0m\u001b[1;33m(\u001b[0m\u001b[0mnbytes\u001b[0m\u001b[1;33m,\u001b[0m \u001b[0mbuffer\u001b[0m\u001b[1;33m)\u001b[0m\u001b[1;33m\u001b[0m\u001b[1;33m\u001b[0m\u001b[0m\n\u001b[0m\u001b[0;32m   1243\u001b[0m         \u001b[1;32melse\u001b[0m\u001b[1;33m:\u001b[0m\u001b[1;33m\u001b[0m\u001b[1;33m\u001b[0m\u001b[0m\n\u001b[0;32m   1244\u001b[0m             \u001b[1;32mreturn\u001b[0m \u001b[0msuper\u001b[0m\u001b[1;33m(\u001b[0m\u001b[1;33m)\u001b[0m\u001b[1;33m.\u001b[0m\u001b[0mrecv_into\u001b[0m\u001b[1;33m(\u001b[0m\u001b[0mbuffer\u001b[0m\u001b[1;33m,\u001b[0m \u001b[0mnbytes\u001b[0m\u001b[1;33m,\u001b[0m \u001b[0mflags\u001b[0m\u001b[1;33m)\u001b[0m\u001b[1;33m\u001b[0m\u001b[1;33m\u001b[0m\u001b[0m\n",
      "\u001b[1;32mc:\\ProgramData\\Anaconda3\\lib\\ssl.py\u001b[0m in \u001b[0;36mread\u001b[1;34m(self, len, buffer)\u001b[0m\n\u001b[0;32m   1098\u001b[0m         \u001b[1;32mtry\u001b[0m\u001b[1;33m:\u001b[0m\u001b[1;33m\u001b[0m\u001b[1;33m\u001b[0m\u001b[0m\n\u001b[0;32m   1099\u001b[0m             \u001b[1;32mif\u001b[0m \u001b[0mbuffer\u001b[0m \u001b[1;32mis\u001b[0m \u001b[1;32mnot\u001b[0m \u001b[1;32mNone\u001b[0m\u001b[1;33m:\u001b[0m\u001b[1;33m\u001b[0m\u001b[1;33m\u001b[0m\u001b[0m\n\u001b[1;32m-> 1100\u001b[1;33m                 \u001b[1;32mreturn\u001b[0m \u001b[0mself\u001b[0m\u001b[1;33m.\u001b[0m\u001b[0m_sslobj\u001b[0m\u001b[1;33m.\u001b[0m\u001b[0mread\u001b[0m\u001b[1;33m(\u001b[0m\u001b[0mlen\u001b[0m\u001b[1;33m,\u001b[0m \u001b[0mbuffer\u001b[0m\u001b[1;33m)\u001b[0m\u001b[1;33m\u001b[0m\u001b[1;33m\u001b[0m\u001b[0m\n\u001b[0m\u001b[0;32m   1101\u001b[0m             \u001b[1;32melse\u001b[0m\u001b[1;33m:\u001b[0m\u001b[1;33m\u001b[0m\u001b[1;33m\u001b[0m\u001b[0m\n\u001b[0;32m   1102\u001b[0m                 \u001b[1;32mreturn\u001b[0m \u001b[0mself\u001b[0m\u001b[1;33m.\u001b[0m\u001b[0m_sslobj\u001b[0m\u001b[1;33m.\u001b[0m\u001b[0mread\u001b[0m\u001b[1;33m(\u001b[0m\u001b[0mlen\u001b[0m\u001b[1;33m)\u001b[0m\u001b[1;33m\u001b[0m\u001b[1;33m\u001b[0m\u001b[0m\n",
      "\u001b[1;31mKeyboardInterrupt\u001b[0m: "
     ]
    }
   ],
   "source": [
    "total_threads = 8\n",
    "\n",
    "anos = [2019, 2018]\n",
    "\n",
    "for ano in anos:\n",
    "    print(f\"\\n\\nIteração do ano: {ano}\")\n",
    "    run(ano, total_threads)"
   ]
  },
  {
   "cell_type": "code",
   "execution_count": null,
   "metadata": {},
   "outputs": [],
   "source": []
  }
 ],
 "metadata": {
  "colab": {
   "collapsed_sections": [],
   "provenance": []
  },
  "gpuClass": "standard",
  "kernelspec": {
   "display_name": "base",
   "language": "python",
   "name": "python3"
  },
  "language_info": {
   "codemirror_mode": {
    "name": "ipython",
    "version": 3
   },
   "file_extension": ".py",
   "mimetype": "text/x-python",
   "name": "python",
   "nbconvert_exporter": "python",
   "pygments_lexer": "ipython3",
   "version": "3.9.13"
  },
  "vscode": {
   "interpreter": {
    "hash": "ad2bdc8ecc057115af97d19610ffacc2b4e99fae6737bb82f5d7fb13d2f2c186"
   }
  }
 },
 "nbformat": 4,
 "nbformat_minor": 4
}
